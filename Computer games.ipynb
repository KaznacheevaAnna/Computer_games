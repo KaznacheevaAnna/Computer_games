{
 "cells": [
  {
   "cell_type": "markdown",
   "metadata": {},
   "source": [
    "# Исследование данных о продажах игр, оценках пользователей и опыте, жанрах и платформах"
   ]
  },
  {
   "cell_type": "markdown",
   "metadata": {},
   "source": [
    "Цель:\n",
    "\n",
    "проанализировать предыдущие периоды для определения более значимых продуктов, на которые необходимо ставить уклон в будущем (реклама/маркетинг/бюджет/расширение) и ключевых факторов, которые непосредственно влияют на продажи/ценовую политику\n",
    "\n",
    "План исследования:\n",
    "\n",
    "Заполнить пропуски, при необходимости удалить строки, удаления которых не повлияет на итоговый результат\n",
    "\n",
    "Изменить тип данных, привести к единому регистру\n",
    "\n",
    "Проверить на дубликаты\n",
    "\n",
    "Проанализировать данные с помощью графиков\n",
    "\n",
    "Проверить гипотезы\n",
    "\n",
    "Описать итоговый результат\n",
    "\n",
    "Описания контекста:\n",
    "\n",
    "Наименование столбцов привела к нижнему регистру, проверила на пропуски и явные дубликаты\n",
    "\n",
    "Дубликатов нет\n",
    "\n",
    "Определила актуальную выборку и проанализировала продажи(кол-во/сумму/прибыль) в рамках игр, платформ и жанров через гистограмму\n",
    "\n",
    "Проанализировала иные факторы: отзывы и рейтинг, которые влияют на продажи, определила в каком объеме, визуализировала через гистограмму, диаграмму размаха и корреляцию Пирсона\n",
    "\n",
    "Проверила стандартные гипотезы\n",
    "\n",
    "Подготовила анализ данных/описала рекомендации, которые в дальнейшем будут использованы для разработки стратегии на 2017 в рамках рекламного бюджета, ценовой категории, расширении продуктовой линейки и пиара"
   ]
  },
  {
   "cell_type": "markdown",
   "metadata": {},
   "source": [
    "**Шаг 1. Откройте файл с данными и изучите общую информацию**"
   ]
  },
  {
   "cell_type": "code",
   "execution_count": 1,
   "metadata": {},
   "outputs": [],
   "source": [
    "import pandas as pd\n",
    "import seaborn as sns\n",
    "import matplotlib.pyplot as plt\n",
    "sns.set(rc={'figure.figsize':(15,10)})\n",
    "from scipy import stats as st\n",
    "from matplotlib.axes._axes import _log as matplotlib_axes_logger\n",
    "matplotlib_axes_logger.setLevel('ERROR')"
   ]
  },
  {
   "cell_type": "code",
   "execution_count": 2,
   "metadata": {},
   "outputs": [],
   "source": [
    "df = pd.read_csv('/datasets/games.csv')"
   ]
  },
  {
   "cell_type": "code",
   "execution_count": 3,
   "metadata": {},
   "outputs": [
    {
     "data": {
      "text/html": [
       "<div>\n",
       "<style scoped>\n",
       "    .dataframe tbody tr th:only-of-type {\n",
       "        vertical-align: middle;\n",
       "    }\n",
       "\n",
       "    .dataframe tbody tr th {\n",
       "        vertical-align: top;\n",
       "    }\n",
       "\n",
       "    .dataframe thead th {\n",
       "        text-align: right;\n",
       "    }\n",
       "</style>\n",
       "<table border=\"1\" class=\"dataframe\">\n",
       "  <thead>\n",
       "    <tr style=\"text-align: right;\">\n",
       "      <th></th>\n",
       "      <th>Name</th>\n",
       "      <th>Platform</th>\n",
       "      <th>Year_of_Release</th>\n",
       "      <th>Genre</th>\n",
       "      <th>NA_sales</th>\n",
       "      <th>EU_sales</th>\n",
       "      <th>JP_sales</th>\n",
       "      <th>Other_sales</th>\n",
       "      <th>Critic_Score</th>\n",
       "      <th>User_Score</th>\n",
       "      <th>Rating</th>\n",
       "    </tr>\n",
       "  </thead>\n",
       "  <tbody>\n",
       "    <tr>\n",
       "      <th>0</th>\n",
       "      <td>Wii Sports</td>\n",
       "      <td>Wii</td>\n",
       "      <td>2006.0</td>\n",
       "      <td>Sports</td>\n",
       "      <td>41.36</td>\n",
       "      <td>28.96</td>\n",
       "      <td>3.77</td>\n",
       "      <td>8.45</td>\n",
       "      <td>76.0</td>\n",
       "      <td>8</td>\n",
       "      <td>E</td>\n",
       "    </tr>\n",
       "    <tr>\n",
       "      <th>1</th>\n",
       "      <td>Super Mario Bros.</td>\n",
       "      <td>NES</td>\n",
       "      <td>1985.0</td>\n",
       "      <td>Platform</td>\n",
       "      <td>29.08</td>\n",
       "      <td>3.58</td>\n",
       "      <td>6.81</td>\n",
       "      <td>0.77</td>\n",
       "      <td>NaN</td>\n",
       "      <td>NaN</td>\n",
       "      <td>NaN</td>\n",
       "    </tr>\n",
       "    <tr>\n",
       "      <th>2</th>\n",
       "      <td>Mario Kart Wii</td>\n",
       "      <td>Wii</td>\n",
       "      <td>2008.0</td>\n",
       "      <td>Racing</td>\n",
       "      <td>15.68</td>\n",
       "      <td>12.76</td>\n",
       "      <td>3.79</td>\n",
       "      <td>3.29</td>\n",
       "      <td>82.0</td>\n",
       "      <td>8.3</td>\n",
       "      <td>E</td>\n",
       "    </tr>\n",
       "    <tr>\n",
       "      <th>3</th>\n",
       "      <td>Wii Sports Resort</td>\n",
       "      <td>Wii</td>\n",
       "      <td>2009.0</td>\n",
       "      <td>Sports</td>\n",
       "      <td>15.61</td>\n",
       "      <td>10.93</td>\n",
       "      <td>3.28</td>\n",
       "      <td>2.95</td>\n",
       "      <td>80.0</td>\n",
       "      <td>8</td>\n",
       "      <td>E</td>\n",
       "    </tr>\n",
       "    <tr>\n",
       "      <th>4</th>\n",
       "      <td>Pokemon Red/Pokemon Blue</td>\n",
       "      <td>GB</td>\n",
       "      <td>1996.0</td>\n",
       "      <td>Role-Playing</td>\n",
       "      <td>11.27</td>\n",
       "      <td>8.89</td>\n",
       "      <td>10.22</td>\n",
       "      <td>1.00</td>\n",
       "      <td>NaN</td>\n",
       "      <td>NaN</td>\n",
       "      <td>NaN</td>\n",
       "    </tr>\n",
       "  </tbody>\n",
       "</table>\n",
       "</div>"
      ],
      "text/plain": [
       "                       Name Platform  Year_of_Release         Genre  NA_sales  \\\n",
       "0                Wii Sports      Wii           2006.0        Sports     41.36   \n",
       "1         Super Mario Bros.      NES           1985.0      Platform     29.08   \n",
       "2            Mario Kart Wii      Wii           2008.0        Racing     15.68   \n",
       "3         Wii Sports Resort      Wii           2009.0        Sports     15.61   \n",
       "4  Pokemon Red/Pokemon Blue       GB           1996.0  Role-Playing     11.27   \n",
       "\n",
       "   EU_sales  JP_sales  Other_sales  Critic_Score User_Score Rating  \n",
       "0     28.96      3.77         8.45          76.0          8      E  \n",
       "1      3.58      6.81         0.77           NaN        NaN    NaN  \n",
       "2     12.76      3.79         3.29          82.0        8.3      E  \n",
       "3     10.93      3.28         2.95          80.0          8      E  \n",
       "4      8.89     10.22         1.00           NaN        NaN    NaN  "
      ]
     },
     "execution_count": 3,
     "metadata": {},
     "output_type": "execute_result"
    }
   ],
   "source": [
    "df.head()"
   ]
  },
  {
   "cell_type": "code",
   "execution_count": 4,
   "metadata": {},
   "outputs": [
    {
     "name": "stdout",
     "output_type": "stream",
     "text": [
      "<class 'pandas.core.frame.DataFrame'>\n",
      "RangeIndex: 16715 entries, 0 to 16714\n",
      "Data columns (total 11 columns):\n",
      " #   Column           Non-Null Count  Dtype  \n",
      "---  ------           --------------  -----  \n",
      " 0   Name             16713 non-null  object \n",
      " 1   Platform         16715 non-null  object \n",
      " 2   Year_of_Release  16446 non-null  float64\n",
      " 3   Genre            16713 non-null  object \n",
      " 4   NA_sales         16715 non-null  float64\n",
      " 5   EU_sales         16715 non-null  float64\n",
      " 6   JP_sales         16715 non-null  float64\n",
      " 7   Other_sales      16715 non-null  float64\n",
      " 8   Critic_Score     8137 non-null   float64\n",
      " 9   User_Score       10014 non-null  object \n",
      " 10  Rating           9949 non-null   object \n",
      "dtypes: float64(6), object(5)\n",
      "memory usage: 1.4+ MB\n"
     ]
    }
   ],
   "source": [
    "df.info()"
   ]
  },
  {
   "cell_type": "markdown",
   "metadata": {},
   "source": [
    "**Шаг 2. Подготовьте данные**"
   ]
  },
  {
   "cell_type": "markdown",
   "metadata": {},
   "source": [
    "Заменила название столбцов (привела к нижнему регистру)"
   ]
  },
  {
   "cell_type": "code",
   "execution_count": 5,
   "metadata": {},
   "outputs": [
    {
     "data": {
      "text/html": [
       "<div>\n",
       "<style scoped>\n",
       "    .dataframe tbody tr th:only-of-type {\n",
       "        vertical-align: middle;\n",
       "    }\n",
       "\n",
       "    .dataframe tbody tr th {\n",
       "        vertical-align: top;\n",
       "    }\n",
       "\n",
       "    .dataframe thead th {\n",
       "        text-align: right;\n",
       "    }\n",
       "</style>\n",
       "<table border=\"1\" class=\"dataframe\">\n",
       "  <thead>\n",
       "    <tr style=\"text-align: right;\">\n",
       "      <th></th>\n",
       "      <th>name</th>\n",
       "      <th>platform</th>\n",
       "      <th>year_of_release</th>\n",
       "      <th>genre</th>\n",
       "      <th>na_sales</th>\n",
       "      <th>eu_sales</th>\n",
       "      <th>jp_sales</th>\n",
       "      <th>other_sales</th>\n",
       "      <th>critic_score</th>\n",
       "      <th>user_score</th>\n",
       "      <th>rating</th>\n",
       "    </tr>\n",
       "  </thead>\n",
       "  <tbody>\n",
       "    <tr>\n",
       "      <th>0</th>\n",
       "      <td>Wii Sports</td>\n",
       "      <td>Wii</td>\n",
       "      <td>2006.0</td>\n",
       "      <td>Sports</td>\n",
       "      <td>41.36</td>\n",
       "      <td>28.96</td>\n",
       "      <td>3.77</td>\n",
       "      <td>8.45</td>\n",
       "      <td>76.0</td>\n",
       "      <td>8</td>\n",
       "      <td>E</td>\n",
       "    </tr>\n",
       "    <tr>\n",
       "      <th>1</th>\n",
       "      <td>Super Mario Bros.</td>\n",
       "      <td>NES</td>\n",
       "      <td>1985.0</td>\n",
       "      <td>Platform</td>\n",
       "      <td>29.08</td>\n",
       "      <td>3.58</td>\n",
       "      <td>6.81</td>\n",
       "      <td>0.77</td>\n",
       "      <td>NaN</td>\n",
       "      <td>NaN</td>\n",
       "      <td>NaN</td>\n",
       "    </tr>\n",
       "    <tr>\n",
       "      <th>2</th>\n",
       "      <td>Mario Kart Wii</td>\n",
       "      <td>Wii</td>\n",
       "      <td>2008.0</td>\n",
       "      <td>Racing</td>\n",
       "      <td>15.68</td>\n",
       "      <td>12.76</td>\n",
       "      <td>3.79</td>\n",
       "      <td>3.29</td>\n",
       "      <td>82.0</td>\n",
       "      <td>8.3</td>\n",
       "      <td>E</td>\n",
       "    </tr>\n",
       "    <tr>\n",
       "      <th>3</th>\n",
       "      <td>Wii Sports Resort</td>\n",
       "      <td>Wii</td>\n",
       "      <td>2009.0</td>\n",
       "      <td>Sports</td>\n",
       "      <td>15.61</td>\n",
       "      <td>10.93</td>\n",
       "      <td>3.28</td>\n",
       "      <td>2.95</td>\n",
       "      <td>80.0</td>\n",
       "      <td>8</td>\n",
       "      <td>E</td>\n",
       "    </tr>\n",
       "    <tr>\n",
       "      <th>4</th>\n",
       "      <td>Pokemon Red/Pokemon Blue</td>\n",
       "      <td>GB</td>\n",
       "      <td>1996.0</td>\n",
       "      <td>Role-Playing</td>\n",
       "      <td>11.27</td>\n",
       "      <td>8.89</td>\n",
       "      <td>10.22</td>\n",
       "      <td>1.00</td>\n",
       "      <td>NaN</td>\n",
       "      <td>NaN</td>\n",
       "      <td>NaN</td>\n",
       "    </tr>\n",
       "  </tbody>\n",
       "</table>\n",
       "</div>"
      ],
      "text/plain": [
       "                       name platform  year_of_release         genre  na_sales  \\\n",
       "0                Wii Sports      Wii           2006.0        Sports     41.36   \n",
       "1         Super Mario Bros.      NES           1985.0      Platform     29.08   \n",
       "2            Mario Kart Wii      Wii           2008.0        Racing     15.68   \n",
       "3         Wii Sports Resort      Wii           2009.0        Sports     15.61   \n",
       "4  Pokemon Red/Pokemon Blue       GB           1996.0  Role-Playing     11.27   \n",
       "\n",
       "   eu_sales  jp_sales  other_sales  critic_score user_score rating  \n",
       "0     28.96      3.77         8.45          76.0          8      E  \n",
       "1      3.58      6.81         0.77           NaN        NaN    NaN  \n",
       "2     12.76      3.79         3.29          82.0        8.3      E  \n",
       "3     10.93      3.28         2.95          80.0          8      E  \n",
       "4      8.89     10.22         1.00           NaN        NaN    NaN  "
      ]
     },
     "execution_count": 5,
     "metadata": {},
     "output_type": "execute_result"
    }
   ],
   "source": [
    "df.columns = df.columns.str.lower()\n",
    "df.head()"
   ]
  },
  {
   "cell_type": "markdown",
   "metadata": {},
   "source": [
    "Преобразовала данные в нужный тип:\n",
    "\n",
    "year_of_release преобразовала в целое значение для возможности в дальнейшем анализировать\n",
    "\n",
    "critic_score, user_score преобразовала в тип с плавающей точкой, до этого заменила пропуски и значение 'tbd' на маркер 7777, по которому в дальнейшем можно будет отфильтровать данные при необходимости. Значение 'tbd' и пропуски не несут информативности при анализе"
   ]
  },
  {
   "cell_type": "code",
   "execution_count": 6,
   "metadata": {},
   "outputs": [],
   "source": [
    "df['year_of_release'] = df['year_of_release'].astype('Int64')\n",
    "\n",
    "df.loc[df['user_score'] == 'tbd', 'user_score'] = 7777\n",
    "\n",
    "for i in ['critic_score', 'user_score']:\n",
    "    df[i] = df[i].fillna(7777).astype('float64')"
   ]
  },
  {
   "cell_type": "markdown",
   "metadata": {},
   "source": [
    "Обработала оставшиеся пропуски:\n",
    "\n",
    "name - удалила, так как из-за подобной манипуляции качество данных не пострадает. Всего 2 пропуска\n",
    "\n",
    "year_of_release - заполнила маркером 7777 для удобства анализа, в т.ч. при построении графиков\n",
    "\n",
    "critic_score, user_score, rating - заполнила маркером 7777, так как достоверно определить нет возможности, в дальнейшем при анализе можно будет исключить/отфильтровать маркер, в т.ч. при построении графиков"
   ]
  },
  {
   "cell_type": "code",
   "execution_count": 7,
   "metadata": {},
   "outputs": [
    {
     "name": "stdout",
     "output_type": "stream",
     "text": [
      "<class 'pandas.core.frame.DataFrame'>\n",
      "RangeIndex: 16713 entries, 0 to 16712\n",
      "Data columns (total 11 columns):\n",
      " #   Column           Non-Null Count  Dtype  \n",
      "---  ------           --------------  -----  \n",
      " 0   name             16713 non-null  object \n",
      " 1   platform         16713 non-null  object \n",
      " 2   year_of_release  16713 non-null  Int64  \n",
      " 3   genre            16713 non-null  object \n",
      " 4   na_sales         16713 non-null  float64\n",
      " 5   eu_sales         16713 non-null  float64\n",
      " 6   jp_sales         16713 non-null  float64\n",
      " 7   other_sales      16713 non-null  float64\n",
      " 8   critic_score     16713 non-null  float64\n",
      " 9   user_score       16713 non-null  float64\n",
      " 10  rating           16713 non-null  object \n",
      "dtypes: Int64(1), float64(6), object(4)\n",
      "memory usage: 1.4+ MB\n"
     ]
    }
   ],
   "source": [
    "df = df.dropna(subset = ['name']).reset_index(drop = True)\n",
    "\n",
    "#def year (group, year):\n",
    "    #df_gr = df.groupby(group)[year].min()\n",
    "    #for i in df_gr.index:\n",
    "        #df.loc[(df[group] == i), year] =\\\n",
    "        #df.loc[(df[group] == i), year].fillna(df_gr[i])\n",
    "    #return df[year].isna().sum()\n",
    "#year ('name', 'year_of_release')\n",
    "\n",
    "df['year_of_release'] = df['year_of_release'].fillna(7777)\n",
    "df['rating'] = df['rating'].fillna('Nan')\n",
    "\n",
    "df.info()"
   ]
  },
  {
   "cell_type": "code",
   "execution_count": 8,
   "metadata": {},
   "outputs": [
    {
     "data": {
      "text/html": [
       "<div>\n",
       "<style scoped>\n",
       "    .dataframe tbody tr th:only-of-type {\n",
       "        vertical-align: middle;\n",
       "    }\n",
       "\n",
       "    .dataframe tbody tr th {\n",
       "        vertical-align: top;\n",
       "    }\n",
       "\n",
       "    .dataframe thead th {\n",
       "        text-align: right;\n",
       "    }\n",
       "</style>\n",
       "<table border=\"1\" class=\"dataframe\">\n",
       "  <thead>\n",
       "    <tr style=\"text-align: right;\">\n",
       "      <th></th>\n",
       "      <th>name</th>\n",
       "      <th>platform</th>\n",
       "      <th>year_of_release</th>\n",
       "      <th>genre</th>\n",
       "      <th>na_sales</th>\n",
       "      <th>eu_sales</th>\n",
       "      <th>jp_sales</th>\n",
       "      <th>other_sales</th>\n",
       "      <th>critic_score</th>\n",
       "      <th>user_score</th>\n",
       "      <th>rating</th>\n",
       "    </tr>\n",
       "  </thead>\n",
       "  <tbody>\n",
       "    <tr>\n",
       "      <th>253</th>\n",
       "      <td>Need for Speed: Most Wanted</td>\n",
       "      <td>PS2</td>\n",
       "      <td>2005</td>\n",
       "      <td>Racing</td>\n",
       "      <td>2.03</td>\n",
       "      <td>1.79</td>\n",
       "      <td>0.08</td>\n",
       "      <td>0.47</td>\n",
       "      <td>82.0</td>\n",
       "      <td>9.1</td>\n",
       "      <td>T</td>\n",
       "    </tr>\n",
       "    <tr>\n",
       "      <th>523</th>\n",
       "      <td>Need for Speed: Most Wanted</td>\n",
       "      <td>PS3</td>\n",
       "      <td>2012</td>\n",
       "      <td>Racing</td>\n",
       "      <td>0.71</td>\n",
       "      <td>1.46</td>\n",
       "      <td>0.06</td>\n",
       "      <td>0.58</td>\n",
       "      <td>7777.0</td>\n",
       "      <td>7777.0</td>\n",
       "      <td>Nan</td>\n",
       "    </tr>\n",
       "    <tr>\n",
       "      <th>1189</th>\n",
       "      <td>Need for Speed: Most Wanted</td>\n",
       "      <td>X360</td>\n",
       "      <td>2012</td>\n",
       "      <td>Racing</td>\n",
       "      <td>0.62</td>\n",
       "      <td>0.78</td>\n",
       "      <td>0.01</td>\n",
       "      <td>0.15</td>\n",
       "      <td>83.0</td>\n",
       "      <td>8.5</td>\n",
       "      <td>T</td>\n",
       "    </tr>\n",
       "    <tr>\n",
       "      <th>1590</th>\n",
       "      <td>Need for Speed: Most Wanted</td>\n",
       "      <td>X360</td>\n",
       "      <td>2005</td>\n",
       "      <td>Racing</td>\n",
       "      <td>1.00</td>\n",
       "      <td>0.13</td>\n",
       "      <td>0.02</td>\n",
       "      <td>0.10</td>\n",
       "      <td>83.0</td>\n",
       "      <td>8.5</td>\n",
       "      <td>T</td>\n",
       "    </tr>\n",
       "    <tr>\n",
       "      <th>1997</th>\n",
       "      <td>Need for Speed: Most Wanted</td>\n",
       "      <td>XB</td>\n",
       "      <td>2005</td>\n",
       "      <td>Racing</td>\n",
       "      <td>0.53</td>\n",
       "      <td>0.46</td>\n",
       "      <td>0.00</td>\n",
       "      <td>0.05</td>\n",
       "      <td>83.0</td>\n",
       "      <td>8.8</td>\n",
       "      <td>T</td>\n",
       "    </tr>\n",
       "    <tr>\n",
       "      <th>2047</th>\n",
       "      <td>Need for Speed: Most Wanted</td>\n",
       "      <td>PSV</td>\n",
       "      <td>2012</td>\n",
       "      <td>Racing</td>\n",
       "      <td>0.33</td>\n",
       "      <td>0.45</td>\n",
       "      <td>0.01</td>\n",
       "      <td>0.22</td>\n",
       "      <td>7777.0</td>\n",
       "      <td>7777.0</td>\n",
       "      <td>Nan</td>\n",
       "    </tr>\n",
       "    <tr>\n",
       "      <th>3580</th>\n",
       "      <td>Need for Speed: Most Wanted</td>\n",
       "      <td>GC</td>\n",
       "      <td>2005</td>\n",
       "      <td>Racing</td>\n",
       "      <td>0.43</td>\n",
       "      <td>0.11</td>\n",
       "      <td>0.00</td>\n",
       "      <td>0.02</td>\n",
       "      <td>80.0</td>\n",
       "      <td>9.1</td>\n",
       "      <td>T</td>\n",
       "    </tr>\n",
       "    <tr>\n",
       "      <th>5971</th>\n",
       "      <td>Need for Speed: Most Wanted</td>\n",
       "      <td>PC</td>\n",
       "      <td>2005</td>\n",
       "      <td>Racing</td>\n",
       "      <td>0.02</td>\n",
       "      <td>0.23</td>\n",
       "      <td>0.00</td>\n",
       "      <td>0.04</td>\n",
       "      <td>82.0</td>\n",
       "      <td>8.5</td>\n",
       "      <td>T</td>\n",
       "    </tr>\n",
       "    <tr>\n",
       "      <th>6272</th>\n",
       "      <td>Need for Speed: Most Wanted</td>\n",
       "      <td>WiiU</td>\n",
       "      <td>2013</td>\n",
       "      <td>Racing</td>\n",
       "      <td>0.13</td>\n",
       "      <td>0.12</td>\n",
       "      <td>0.00</td>\n",
       "      <td>0.02</td>\n",
       "      <td>7777.0</td>\n",
       "      <td>7777.0</td>\n",
       "      <td>Nan</td>\n",
       "    </tr>\n",
       "    <tr>\n",
       "      <th>6409</th>\n",
       "      <td>Need for Speed: Most Wanted</td>\n",
       "      <td>DS</td>\n",
       "      <td>2005</td>\n",
       "      <td>Racing</td>\n",
       "      <td>0.24</td>\n",
       "      <td>0.01</td>\n",
       "      <td>0.00</td>\n",
       "      <td>0.02</td>\n",
       "      <td>45.0</td>\n",
       "      <td>6.1</td>\n",
       "      <td>E</td>\n",
       "    </tr>\n",
       "    <tr>\n",
       "      <th>6472</th>\n",
       "      <td>Need for Speed: Most Wanted</td>\n",
       "      <td>GBA</td>\n",
       "      <td>2005</td>\n",
       "      <td>Racing</td>\n",
       "      <td>0.19</td>\n",
       "      <td>0.07</td>\n",
       "      <td>0.00</td>\n",
       "      <td>0.00</td>\n",
       "      <td>7777.0</td>\n",
       "      <td>8.3</td>\n",
       "      <td>E</td>\n",
       "    </tr>\n",
       "    <tr>\n",
       "      <th>11714</th>\n",
       "      <td>Need for Speed: Most Wanted</td>\n",
       "      <td>PC</td>\n",
       "      <td>2012</td>\n",
       "      <td>Racing</td>\n",
       "      <td>0.00</td>\n",
       "      <td>0.06</td>\n",
       "      <td>0.00</td>\n",
       "      <td>0.02</td>\n",
       "      <td>82.0</td>\n",
       "      <td>8.5</td>\n",
       "      <td>T</td>\n",
       "    </tr>\n",
       "  </tbody>\n",
       "</table>\n",
       "</div>"
      ],
      "text/plain": [
       "                              name platform  year_of_release   genre  \\\n",
       "253    Need for Speed: Most Wanted      PS2             2005  Racing   \n",
       "523    Need for Speed: Most Wanted      PS3             2012  Racing   \n",
       "1189   Need for Speed: Most Wanted     X360             2012  Racing   \n",
       "1590   Need for Speed: Most Wanted     X360             2005  Racing   \n",
       "1997   Need for Speed: Most Wanted       XB             2005  Racing   \n",
       "2047   Need for Speed: Most Wanted      PSV             2012  Racing   \n",
       "3580   Need for Speed: Most Wanted       GC             2005  Racing   \n",
       "5971   Need for Speed: Most Wanted       PC             2005  Racing   \n",
       "6272   Need for Speed: Most Wanted     WiiU             2013  Racing   \n",
       "6409   Need for Speed: Most Wanted       DS             2005  Racing   \n",
       "6472   Need for Speed: Most Wanted      GBA             2005  Racing   \n",
       "11714  Need for Speed: Most Wanted       PC             2012  Racing   \n",
       "\n",
       "       na_sales  eu_sales  jp_sales  other_sales  critic_score  user_score  \\\n",
       "253        2.03      1.79      0.08         0.47          82.0         9.1   \n",
       "523        0.71      1.46      0.06         0.58        7777.0      7777.0   \n",
       "1189       0.62      0.78      0.01         0.15          83.0         8.5   \n",
       "1590       1.00      0.13      0.02         0.10          83.0         8.5   \n",
       "1997       0.53      0.46      0.00         0.05          83.0         8.8   \n",
       "2047       0.33      0.45      0.01         0.22        7777.0      7777.0   \n",
       "3580       0.43      0.11      0.00         0.02          80.0         9.1   \n",
       "5971       0.02      0.23      0.00         0.04          82.0         8.5   \n",
       "6272       0.13      0.12      0.00         0.02        7777.0      7777.0   \n",
       "6409       0.24      0.01      0.00         0.02          45.0         6.1   \n",
       "6472       0.19      0.07      0.00         0.00        7777.0         8.3   \n",
       "11714      0.00      0.06      0.00         0.02          82.0         8.5   \n",
       "\n",
       "      rating  \n",
       "253        T  \n",
       "523      Nan  \n",
       "1189       T  \n",
       "1590       T  \n",
       "1997       T  \n",
       "2047     Nan  \n",
       "3580       T  \n",
       "5971       T  \n",
       "6272     Nan  \n",
       "6409       E  \n",
       "6472       E  \n",
       "11714      T  "
      ]
     },
     "execution_count": 8,
     "metadata": {},
     "output_type": "execute_result"
    }
   ],
   "source": [
    "# Комментарий ревьюера\n",
    "# Эта игра выходила в разные года на одной платформе\n",
    "df.query('name == \"Need for Speed: Most Wanted\"') "
   ]
  },
  {
   "cell_type": "markdown",
   "metadata": {},
   "source": [
    "Проверила на дубликаты"
   ]
  },
  {
   "cell_type": "code",
   "execution_count": 9,
   "metadata": {},
   "outputs": [
    {
     "data": {
      "text/plain": [
       "0"
      ]
     },
     "execution_count": 9,
     "metadata": {},
     "output_type": "execute_result"
    }
   ],
   "source": [
    "df.duplicated().sum()"
   ]
  },
  {
   "cell_type": "markdown",
   "metadata": {},
   "source": [
    "Посчитала суммарные продажи во всех регионах"
   ]
  },
  {
   "cell_type": "code",
   "execution_count": 10,
   "metadata": {},
   "outputs": [
    {
     "data": {
      "text/html": [
       "<div>\n",
       "<style scoped>\n",
       "    .dataframe tbody tr th:only-of-type {\n",
       "        vertical-align: middle;\n",
       "    }\n",
       "\n",
       "    .dataframe tbody tr th {\n",
       "        vertical-align: top;\n",
       "    }\n",
       "\n",
       "    .dataframe thead th {\n",
       "        text-align: right;\n",
       "    }\n",
       "</style>\n",
       "<table border=\"1\" class=\"dataframe\">\n",
       "  <thead>\n",
       "    <tr style=\"text-align: right;\">\n",
       "      <th></th>\n",
       "      <th>name</th>\n",
       "      <th>platform</th>\n",
       "      <th>year_of_release</th>\n",
       "      <th>genre</th>\n",
       "      <th>na_sales</th>\n",
       "      <th>eu_sales</th>\n",
       "      <th>jp_sales</th>\n",
       "      <th>other_sales</th>\n",
       "      <th>total_sum</th>\n",
       "      <th>critic_score</th>\n",
       "      <th>user_score</th>\n",
       "      <th>rating</th>\n",
       "    </tr>\n",
       "  </thead>\n",
       "  <tbody>\n",
       "    <tr>\n",
       "      <th>0</th>\n",
       "      <td>Wii Sports</td>\n",
       "      <td>Wii</td>\n",
       "      <td>2006</td>\n",
       "      <td>Sports</td>\n",
       "      <td>41.36</td>\n",
       "      <td>28.96</td>\n",
       "      <td>3.77</td>\n",
       "      <td>8.45</td>\n",
       "      <td>82.54</td>\n",
       "      <td>76.0</td>\n",
       "      <td>8.0</td>\n",
       "      <td>E</td>\n",
       "    </tr>\n",
       "    <tr>\n",
       "      <th>1</th>\n",
       "      <td>Super Mario Bros.</td>\n",
       "      <td>NES</td>\n",
       "      <td>1985</td>\n",
       "      <td>Platform</td>\n",
       "      <td>29.08</td>\n",
       "      <td>3.58</td>\n",
       "      <td>6.81</td>\n",
       "      <td>0.77</td>\n",
       "      <td>40.24</td>\n",
       "      <td>7777.0</td>\n",
       "      <td>7777.0</td>\n",
       "      <td>Nan</td>\n",
       "    </tr>\n",
       "    <tr>\n",
       "      <th>2</th>\n",
       "      <td>Mario Kart Wii</td>\n",
       "      <td>Wii</td>\n",
       "      <td>2008</td>\n",
       "      <td>Racing</td>\n",
       "      <td>15.68</td>\n",
       "      <td>12.76</td>\n",
       "      <td>3.79</td>\n",
       "      <td>3.29</td>\n",
       "      <td>35.52</td>\n",
       "      <td>82.0</td>\n",
       "      <td>8.3</td>\n",
       "      <td>E</td>\n",
       "    </tr>\n",
       "    <tr>\n",
       "      <th>3</th>\n",
       "      <td>Wii Sports Resort</td>\n",
       "      <td>Wii</td>\n",
       "      <td>2009</td>\n",
       "      <td>Sports</td>\n",
       "      <td>15.61</td>\n",
       "      <td>10.93</td>\n",
       "      <td>3.28</td>\n",
       "      <td>2.95</td>\n",
       "      <td>32.77</td>\n",
       "      <td>80.0</td>\n",
       "      <td>8.0</td>\n",
       "      <td>E</td>\n",
       "    </tr>\n",
       "    <tr>\n",
       "      <th>4</th>\n",
       "      <td>Pokemon Red/Pokemon Blue</td>\n",
       "      <td>GB</td>\n",
       "      <td>1996</td>\n",
       "      <td>Role-Playing</td>\n",
       "      <td>11.27</td>\n",
       "      <td>8.89</td>\n",
       "      <td>10.22</td>\n",
       "      <td>1.00</td>\n",
       "      <td>31.38</td>\n",
       "      <td>7777.0</td>\n",
       "      <td>7777.0</td>\n",
       "      <td>Nan</td>\n",
       "    </tr>\n",
       "  </tbody>\n",
       "</table>\n",
       "</div>"
      ],
      "text/plain": [
       "                       name platform  year_of_release         genre  na_sales  \\\n",
       "0                Wii Sports      Wii             2006        Sports     41.36   \n",
       "1         Super Mario Bros.      NES             1985      Platform     29.08   \n",
       "2            Mario Kart Wii      Wii             2008        Racing     15.68   \n",
       "3         Wii Sports Resort      Wii             2009        Sports     15.61   \n",
       "4  Pokemon Red/Pokemon Blue       GB             1996  Role-Playing     11.27   \n",
       "\n",
       "   eu_sales  jp_sales  other_sales  total_sum  critic_score  user_score rating  \n",
       "0     28.96      3.77         8.45      82.54          76.0         8.0      E  \n",
       "1      3.58      6.81         0.77      40.24        7777.0      7777.0    Nan  \n",
       "2     12.76      3.79         3.29      35.52          82.0         8.3      E  \n",
       "3     10.93      3.28         2.95      32.77          80.0         8.0      E  \n",
       "4      8.89     10.22         1.00      31.38        7777.0      7777.0    Nan  "
      ]
     },
     "execution_count": 10,
     "metadata": {},
     "output_type": "execute_result"
    }
   ],
   "source": [
    "df.insert(8, 'total_sum', df['na_sales'] + df['eu_sales'] + df['jp_sales'] + df ['other_sales'], True)\n",
    "df.head()"
   ]
  },
  {
   "cell_type": "code",
   "execution_count": 11,
   "metadata": {},
   "outputs": [
    {
     "name": "stdout",
     "output_type": "stream",
     "text": [
      "<class 'pandas.core.frame.DataFrame'>\n",
      "RangeIndex: 16713 entries, 0 to 16712\n",
      "Data columns (total 12 columns):\n",
      " #   Column           Non-Null Count  Dtype  \n",
      "---  ------           --------------  -----  \n",
      " 0   name             16713 non-null  object \n",
      " 1   platform         16713 non-null  object \n",
      " 2   year_of_release  16713 non-null  Int64  \n",
      " 3   genre            16713 non-null  object \n",
      " 4   na_sales         16713 non-null  float64\n",
      " 5   eu_sales         16713 non-null  float64\n",
      " 6   jp_sales         16713 non-null  float64\n",
      " 7   other_sales      16713 non-null  float64\n",
      " 8   total_sum        16713 non-null  float64\n",
      " 9   critic_score     16713 non-null  float64\n",
      " 10  user_score       16713 non-null  float64\n",
      " 11  rating           16713 non-null  object \n",
      "dtypes: Int64(1), float64(7), object(4)\n",
      "memory usage: 1.5+ MB\n",
      "None\n",
      "-------------------------\n",
      "name ['Wii Sports' 'Super Mario Bros.' 'Mario Kart Wii' ...\n",
      " 'Woody Woodpecker in Crazy Castle 5' 'LMA Manager 2007'\n",
      " 'Haitaka no Psychedelica']\n",
      "name : кол-во NaN 0 , процент NaN 0.0 %\n",
      "-------------------------\n",
      "platform ['Wii' 'NES' 'GB' 'DS' 'X360' 'PS3' 'PS2' 'SNES' 'GBA' 'PS4' '3DS' 'N64'\n",
      " 'PS' 'XB' 'PC' '2600' 'PSP' 'XOne' 'WiiU' 'GC' 'GEN' 'DC' 'PSV' 'SAT'\n",
      " 'SCD' 'WS' 'NG' 'TG16' '3DO' 'GG' 'PCFX']\n",
      "platform : кол-во NaN 0 , процент NaN 0.0 %\n",
      "-------------------------\n",
      "year_of_release <IntegerArray>\n",
      "[2006, 1985, 2008, 2009, 1996, 1989, 1984, 2005, 1999, 2007, 2010, 2013, 2004,\n",
      " 1990, 1988, 2002, 2001, 2011, 1998, 2015, 2012, 2014, 1992, 1997, 1993, 1994,\n",
      " 1982, 2016, 2003, 1986, 2000, 7777, 1995, 1991, 1981, 1987, 1980, 1983]\n",
      "Length: 38, dtype: Int64\n",
      "year_of_release : кол-во NaN 0 , процент NaN 0.0 %\n",
      "-------------------------\n",
      "genre ['Sports' 'Platform' 'Racing' 'Role-Playing' 'Puzzle' 'Misc' 'Shooter'\n",
      " 'Simulation' 'Action' 'Fighting' 'Adventure' 'Strategy']\n",
      "genre : кол-во NaN 0 , процент NaN 0.0 %\n",
      "-------------------------\n",
      "critic_score [  76. 7777.   82.   80.   89.   58.   87.   91.   61.   97.   95.   77.\n",
      "   88.   83.   94.   93.   85.   86.   98.   96.   90.   84.   73.   74.\n",
      "   78.   92.   71.   72.   68.   62.   49.   67.   81.   66.   56.   79.\n",
      "   70.   59.   64.   75.   60.   63.   69.   50.   25.   42.   44.   55.\n",
      "   48.   57.   29.   47.   65.   54.   20.   53.   37.   38.   33.   52.\n",
      "   30.   32.   43.   45.   51.   40.   46.   39.   34.   35.   41.   36.\n",
      "   28.   31.   27.   26.   19.   23.   24.   21.   17.   22.   13.]\n",
      "critic_score : кол-во NaN 0 , процент NaN 0.0 %\n",
      "-------------------------\n",
      "user_score [8.000e+00 7.777e+03 8.300e+00 8.500e+00 6.600e+00 8.400e+00 8.600e+00\n",
      " 7.700e+00 6.300e+00 7.400e+00 8.200e+00 9.000e+00 7.900e+00 8.100e+00\n",
      " 8.700e+00 7.100e+00 3.400e+00 5.300e+00 4.800e+00 3.200e+00 8.900e+00\n",
      " 6.400e+00 7.800e+00 7.500e+00 2.600e+00 7.200e+00 9.200e+00 7.000e+00\n",
      " 7.300e+00 4.300e+00 7.600e+00 5.700e+00 5.000e+00 9.100e+00 6.500e+00\n",
      " 8.800e+00 6.900e+00 9.400e+00 6.800e+00 6.100e+00 6.700e+00 5.400e+00\n",
      " 4.000e+00 4.900e+00 4.500e+00 9.300e+00 6.200e+00 4.200e+00 6.000e+00\n",
      " 3.700e+00 4.100e+00 5.800e+00 5.600e+00 5.500e+00 4.400e+00 4.600e+00\n",
      " 5.900e+00 3.900e+00 3.100e+00 2.900e+00 5.200e+00 3.300e+00 4.700e+00\n",
      " 5.100e+00 3.500e+00 2.500e+00 1.900e+00 3.000e+00 2.700e+00 2.200e+00\n",
      " 2.000e+00 9.500e+00 2.100e+00 3.600e+00 2.800e+00 1.800e+00 3.800e+00\n",
      " 0.000e+00 1.600e+00 9.600e+00 2.400e+00 1.700e+00 1.100e+00 3.000e-01\n",
      " 1.500e+00 7.000e-01 1.200e+00 2.300e+00 5.000e-01 1.300e+00 2.000e-01\n",
      " 6.000e-01 1.400e+00 9.000e-01 1.000e+00 9.700e+00]\n",
      "user_score : кол-во NaN 0 , процент NaN 0.0 %\n",
      "-------------------------\n",
      "rating ['E' 'Nan' 'M' 'T' 'E10+' 'K-A' 'AO' 'EC' 'RP']\n",
      "rating : кол-во NaN 0 , процент NaN 0.0 %\n"
     ]
    }
   ],
   "source": [
    "# Комментарий ревьюера\n",
    "# Посмотрим, что у нас осталось\n",
    "temp = df.copy() \n",
    "list_c = ['name', 'platform', 'year_of_release', 'genre', 'critic_score', 'user_score', 'rating']\n",
    "print(temp.info())\n",
    "for col_l in list_c:\n",
    "  print('-'* 25)\n",
    "  print(col_l, temp[col_l].unique())\n",
    "  print(col_l,': кол-во NaN',temp[col_l].isna().sum(),\n",
    "        ', процент NaN', round(temp[col_l].isna().sum()/len(temp)*100, 2),'%')"
   ]
  },
  {
   "cell_type": "markdown",
   "metadata": {},
   "source": [
    "**Шаг 3. Проведите исследовательский анализ данных**"
   ]
  },
  {
   "cell_type": "markdown",
   "metadata": {},
   "source": [
    "Общий анализ по играм: посмотрела, сколько игр выпускалось в разные годы"
   ]
  },
  {
   "cell_type": "code",
   "execution_count": 12,
   "metadata": {},
   "outputs": [
    {
     "data": {
      "image/png": "[encoded data removed]",
      "text/plain": [
       "<Figure size 1080x720 with 1 Axes>"
      ]
     },
     "metadata": {},
     "output_type": "display_data"
    }
   ],
   "source": [
    "(\n",
    "df.query('year_of_release < 7777').pivot_table (index='year_of_release', values='name', aggfunc='count').reset_index()\n",
    ".plot(kind='bar', x='year_of_release', y='name')\n",
    ")\n",
    "plt.ylabel('number of games')\n",
    "plt.show()"
   ]
  },
  {
   "cell_type": "markdown",
   "metadata": {},
   "source": [
    "С 1980 по 1990 года игры почти не выпускались, пик выпуска игр - 2008-2009, c 2012 снижение, но при этом наблюдается стабильность в последующих годах.\n",
    "Для анализа будут необходимы данные с 2012 года(включительно), так как более поздние данные покажут не реалистичный прогноз на 2017 с учетом вышесказанных пиков и в принципе изменения рынка"
   ]
  },
  {
   "cell_type": "markdown",
   "metadata": {},
   "source": [
    "Общий анализ по платформам, продаж и топ 10:\n",
    "\n",
    "Посмотрела, как менялись продажи по платформам. Выбрала платформы с наибольшими суммарными продажами и построила распределение по годам"
   ]
  },
  {
   "cell_type": "code",
   "execution_count": 13,
   "metadata": {},
   "outputs": [
    {
     "data": {
      "image/png": "[encoded data removed]",
      "text/plain": [
       "<Figure size 1080x720 with 1 Axes>"
      ]
     },
     "metadata": {},
     "output_type": "display_data"
    },
    {
     "data": {
      "image/png": "[encoded data removed]",
      "text/plain": [
       "<Figure size 1080x720 with 1 Axes>"
      ]
     },
     "metadata": {},
     "output_type": "display_data"
    }
   ],
   "source": [
    "(\n",
    "df.pivot_table(index='platform', values='total_sum', aggfunc='sum').reset_index()\n",
    ".plot(kind='bar', x='platform', y='total_sum')\n",
    ")\n",
    "plt.ylabel('total_sales')\n",
    "\n",
    "platform_top_10 = (df\n",
    "                .groupby('platform')['total_sum']\n",
    "                .sum()\n",
    "                .sort_values(ascending = False)\n",
    "                .head(10)\n",
    "                .index\n",
    "                  )\n",
    "\n",
    "(\n",
    "df.query('platform in @platform_top_10 and (year_of_release < 7777)')\n",
    ".pivot_table(index='year_of_release', columns='platform', values='total_sum', aggfunc='sum')\n",
    "\n",
    "# Комментерий ревьюера\n",
    "#.plot(kind='bar')\n",
    ".plot(kind='bar', width=1.5)\n",
    ")\n",
    "plt.ylabel('total_sales')\n",
    "plt.show()"
   ]
  },
  {
   "cell_type": "markdown",
   "metadata": {},
   "source": [
    "Средний срок жизни платформы, а именно массовых продаж 4-6 лет, пик приходится на 3 году жизни, обычно платформа живет около 10 лет, далее на рынок выходит новая версия или тип/вид"
   ]
  },
  {
   "cell_type": "markdown",
   "metadata": {},
   "source": [
    "**Вопрос: что необходимо указать/добавить в код для того, чтобы во втором графике(распределение продаж по годам топ 10) линии стали более читабельные**"
   ]
  },
  {
   "cell_type": "markdown",
   "metadata": {},
   "source": [
    "Отфильтровала данные за соответствующий актуальный период"
   ]
  },
  {
   "cell_type": "code",
   "execution_count": 14,
   "metadata": {},
   "outputs": [
    {
     "data": {
      "text/html": [
       "<div>\n",
       "<style scoped>\n",
       "    .dataframe tbody tr th:only-of-type {\n",
       "        vertical-align: middle;\n",
       "    }\n",
       "\n",
       "    .dataframe tbody tr th {\n",
       "        vertical-align: top;\n",
       "    }\n",
       "\n",
       "    .dataframe thead th {\n",
       "        text-align: right;\n",
       "    }\n",
       "</style>\n",
       "<table border=\"1\" class=\"dataframe\">\n",
       "  <thead>\n",
       "    <tr style=\"text-align: right;\">\n",
       "      <th></th>\n",
       "      <th>name</th>\n",
       "      <th>platform</th>\n",
       "      <th>year_of_release</th>\n",
       "      <th>genre</th>\n",
       "      <th>na_sales</th>\n",
       "      <th>eu_sales</th>\n",
       "      <th>jp_sales</th>\n",
       "      <th>other_sales</th>\n",
       "      <th>total_sum</th>\n",
       "      <th>critic_score</th>\n",
       "      <th>user_score</th>\n",
       "      <th>rating</th>\n",
       "    </tr>\n",
       "  </thead>\n",
       "  <tbody>\n",
       "    <tr>\n",
       "      <th>16</th>\n",
       "      <td>Grand Theft Auto V</td>\n",
       "      <td>PS3</td>\n",
       "      <td>2013</td>\n",
       "      <td>Action</td>\n",
       "      <td>7.02</td>\n",
       "      <td>9.09</td>\n",
       "      <td>0.98</td>\n",
       "      <td>3.96</td>\n",
       "      <td>21.05</td>\n",
       "      <td>97.0</td>\n",
       "      <td>8.2</td>\n",
       "      <td>M</td>\n",
       "    </tr>\n",
       "    <tr>\n",
       "      <th>23</th>\n",
       "      <td>Grand Theft Auto V</td>\n",
       "      <td>X360</td>\n",
       "      <td>2013</td>\n",
       "      <td>Action</td>\n",
       "      <td>9.66</td>\n",
       "      <td>5.14</td>\n",
       "      <td>0.06</td>\n",
       "      <td>1.41</td>\n",
       "      <td>16.27</td>\n",
       "      <td>97.0</td>\n",
       "      <td>8.1</td>\n",
       "      <td>M</td>\n",
       "    </tr>\n",
       "    <tr>\n",
       "      <th>31</th>\n",
       "      <td>Call of Duty: Black Ops 3</td>\n",
       "      <td>PS4</td>\n",
       "      <td>2015</td>\n",
       "      <td>Shooter</td>\n",
       "      <td>6.03</td>\n",
       "      <td>5.86</td>\n",
       "      <td>0.36</td>\n",
       "      <td>2.38</td>\n",
       "      <td>14.63</td>\n",
       "      <td>7777.0</td>\n",
       "      <td>7777.0</td>\n",
       "      <td>Nan</td>\n",
       "    </tr>\n",
       "    <tr>\n",
       "      <th>33</th>\n",
       "      <td>Pokemon X/Pokemon Y</td>\n",
       "      <td>3DS</td>\n",
       "      <td>2013</td>\n",
       "      <td>Role-Playing</td>\n",
       "      <td>5.28</td>\n",
       "      <td>4.19</td>\n",
       "      <td>4.35</td>\n",
       "      <td>0.78</td>\n",
       "      <td>14.60</td>\n",
       "      <td>7777.0</td>\n",
       "      <td>7777.0</td>\n",
       "      <td>Nan</td>\n",
       "    </tr>\n",
       "    <tr>\n",
       "      <th>34</th>\n",
       "      <td>Call of Duty: Black Ops II</td>\n",
       "      <td>PS3</td>\n",
       "      <td>2012</td>\n",
       "      <td>Shooter</td>\n",
       "      <td>4.99</td>\n",
       "      <td>5.73</td>\n",
       "      <td>0.65</td>\n",
       "      <td>2.42</td>\n",
       "      <td>13.79</td>\n",
       "      <td>83.0</td>\n",
       "      <td>5.3</td>\n",
       "      <td>M</td>\n",
       "    </tr>\n",
       "  </tbody>\n",
       "</table>\n",
       "</div>"
      ],
      "text/plain": [
       "                          name platform  year_of_release         genre  \\\n",
       "16          Grand Theft Auto V      PS3             2013        Action   \n",
       "23          Grand Theft Auto V     X360             2013        Action   \n",
       "31   Call of Duty: Black Ops 3      PS4             2015       Shooter   \n",
       "33         Pokemon X/Pokemon Y      3DS             2013  Role-Playing   \n",
       "34  Call of Duty: Black Ops II      PS3             2012       Shooter   \n",
       "\n",
       "    na_sales  eu_sales  jp_sales  other_sales  total_sum  critic_score  \\\n",
       "16      7.02      9.09      0.98         3.96      21.05          97.0   \n",
       "23      9.66      5.14      0.06         1.41      16.27          97.0   \n",
       "31      6.03      5.86      0.36         2.38      14.63        7777.0   \n",
       "33      5.28      4.19      4.35         0.78      14.60        7777.0   \n",
       "34      4.99      5.73      0.65         2.42      13.79          83.0   \n",
       "\n",
       "    user_score rating  \n",
       "16         8.2      M  \n",
       "23         8.1      M  \n",
       "31      7777.0    Nan  \n",
       "33      7777.0    Nan  \n",
       "34         5.3      M  "
      ]
     },
     "execution_count": 14,
     "metadata": {},
     "output_type": "execute_result"
    }
   ],
   "source": [
    "df_new = df.loc[(df['year_of_release'] >=2012) & (df['year_of_release'] !=7777)]\n",
    "df_new.head()"
   ]
  },
  {
   "cell_type": "markdown",
   "metadata": {},
   "source": [
    "Проанализировала платформы, которые лидируют по продажам (сумма), растут или падают. Выбрала несколько потенциально прибыльных платформ"
   ]
  },
  {
   "cell_type": "code",
   "execution_count": 15,
   "metadata": {},
   "outputs": [
    {
     "data": {
      "image/png": "[encoded data removed]",
      "text/plain": [
       "<Figure size 1080x720 with 1 Axes>"
      ]
     },
     "metadata": {},
     "output_type": "display_data"
    }
   ],
   "source": [
    "(\n",
    "df_new.pivot_table(index='platform', values='total_sum', aggfunc='sum').reset_index()\n",
    ".plot(kind='bar', x='platform', y='total_sum')\n",
    ")\n",
    "plt.ylabel('total_sales')\n",
    "plt.show()"
   ]
  },
  {
   "cell_type": "markdown",
   "metadata": {},
   "source": [
    "Проанализировала платформы, которые лидируют по кол-ву продаж"
   ]
  },
  {
   "cell_type": "code",
   "execution_count": 16,
   "metadata": {},
   "outputs": [
    {
     "data": {
      "image/png": "[encoded data removed]",
      "text/plain": [
       "<Figure size 1080x720 with 1 Axes>"
      ]
     },
     "metadata": {},
     "output_type": "display_data"
    }
   ],
   "source": [
    "(\n",
    "df_new.pivot_table(index='platform', values='name', aggfunc='count').reset_index()\n",
    ".plot(kind='bar', x='platform', y='name')\n",
    ")\n",
    "plt.ylabel('number of games')\n",
    "plt.show()"
   ]
  },
  {
   "cell_type": "markdown",
   "metadata": {},
   "source": [
    "Построила график «ящик с усами» по глобальным продажам игр в разбивке по платформам с учетом актуального периода"
   ]
  },
  {
   "cell_type": "code",
   "execution_count": 17,
   "metadata": {},
   "outputs": [
    {
     "data": {
      "image/png": "[encoded data removed]",
      "text/plain": [
       "<Figure size 1080x720 with 1 Axes>"
      ]
     },
     "metadata": {},
     "output_type": "display_data"
    }
   ],
   "source": [
    "sns.boxplot(data=df_new, x='platform', y='total_sum')\n",
    "plt.ylim(0, 3)\n",
    "plt.show()"
   ]
  },
  {
   "cell_type": "markdown",
   "metadata": {},
   "source": [
    "Построила график «ящик с усами» по глобальным продажам игр в разбивке по платформам"
   ]
  },
  {
   "cell_type": "code",
   "execution_count": 18,
   "metadata": {},
   "outputs": [
    {
     "data": {
      "image/png": "[encoded data removed]",
      "text/plain": [
       "<Figure size 1080x720 with 1 Axes>"
      ]
     },
     "metadata": {},
     "output_type": "display_data"
    }
   ],
   "source": [
    "sns.boxplot(data=df_new, x='platform', y='total_sum')\n",
    "plt.show()"
   ]
  },
  {
   "cell_type": "markdown",
   "metadata": {},
   "source": [
    "**Общее распределение по платформам:**\n",
    "\n",
    "*Сумма*\n",
    "\n",
    "Самые прибыльные платформы по суммам продаж PS3 и PS4\n",
    "А также неплохо продаются 3DS, X360 и XOne платформы, все остальные в скором времени прекратят свое существование или останутся точечные покупки\n",
    "\n",
    "*Кол-во*\n",
    "\n",
    "По кол-ву покупок лидируют PS3, PS4, 3DS, X360, XOne и PSV. Неожиданный вывод, что в данную выборку попала платформа PSV, могу предположить, что очень дешевый вариант, при этом пользуется популярностью\n",
    "\n",
    "*Прибыль*\n",
    "\n",
    "Самые большие выбросы платформ PS3, PS4, X360 и XOne, при этом мы видим, что платформа X360 самая прибыльная (высокое медианное значение), что еще раз подтверждает предположение о больших выбросах в рамках ранее озвученных платформ.\n",
    "PSP и PSV имеют самые низкие продажи в целом, но не забываем, что продается значительное кол-во игр, которые разработаны платформой PSV"
   ]
  },
  {
   "cell_type": "markdown",
   "metadata": {},
   "source": [
    "Посмотрела, как влияют на продажи отзывы пользователей и критиков. Построила диаграмму рассеяния и посчитала корреляцию между отзывами и продажами"
   ]
  },
  {
   "cell_type": "code",
   "execution_count": 19,
   "metadata": {},
   "outputs": [
    {
     "name": "stdout",
     "output_type": "stream",
     "text": [
      "корреляция Пирсона от оценок критиков\n",
      "PS4 - 0.40656790206178095\n",
      "корреляция Пирсона от оценок пользователей\n",
      "PS4 - -0.031957110204556376\n",
      "корреляция Пирсона от оценок критиков\n",
      "PS3 - 0.3314972592629587\n",
      "корреляция Пирсона от оценок пользователей\n",
      "PS3 - -0.005143522887113828\n",
      "корреляция Пирсона от оценок критиков\n",
      "X360 - 0.3605734888507336\n",
      "корреляция Пирсона от оценок пользователей\n",
      "X360 - 0.006163978646213326\n",
      "корреляция Пирсона от оценок критиков\n",
      "XOne - 0.4169983280084017\n",
      "корреляция Пирсона от оценок пользователей\n",
      "XOne - -0.06892505328279414\n",
      "корреляция Пирсона от оценок критиков\n",
      "3DS - 0.3208028695360785\n",
      "корреляция Пирсона от оценок пользователей\n",
      "3DS - 0.19758263411038599\n",
      "корреляция Пирсона от оценок критиков\n",
      "WiiU - 0.34837976012017485\n",
      "корреляция Пирсона от оценок пользователей\n",
      "WiiU - 0.4002190202148617\n",
      "корреляция Пирсона от оценок критиков\n",
      "Wii - -0.4243413011077494\n",
      "корреляция Пирсона от оценок пользователей\n",
      "Wii - 0.29619680007479526\n",
      "корреляция Пирсона от оценок критиков\n",
      "PC - 0.23724324311567915\n",
      "корреляция Пирсона от оценок пользователей\n",
      "PC - -0.12186747630735577\n"
     ]
    },
    {
     "data": {
      "image/png": "[encoded data removed]",
      "text/plain": [
       "<Figure size 972x324 with 2 Axes>"
      ]
     },
     "metadata": {},
     "output_type": "display_data"
    },
    {
     "data": {
      "image/png": "[encoded data removed]",
      "text/plain": [
       "<Figure size 972x324 with 2 Axes>"
      ]
     },
     "metadata": {},
     "output_type": "display_data"
    },
    {
     "data": {
      "image/png": "[encoded data removed]",
      "text/plain": [
       "<Figure size 972x324 with 2 Axes>"
      ]
     },
     "metadata": {},
     "output_type": "display_data"
    },
    {
     "data": {
      "image/png": "[encoded data removed]",
      "text/plain": [
       "<Figure size 972x324 with 2 Axes>"
      ]
     },
     "metadata": {},
     "output_type": "display_data"
    },
    {
     "data": {
      "image/png": "[encoded data removed]",
      "text/plain": [
       "<Figure size 972x324 with 2 Axes>"
      ]
     },
     "metadata": {},
     "output_type": "display_data"
    },
    {
     "data": {
      "image/png": "[encoded data removed]",
      "text/plain": [
       "<Figure size 972x324 with 2 Axes>"
      ]
     },
     "metadata": {},
     "output_type": "display_data"
    },
    {
     "data": {
      "image/png": "[encoded data removed]",
      "text/plain": [
       "<Figure size 972x324 with 2 Axes>"
      ]
     },
     "metadata": {},
     "output_type": "display_data"
    },
    {
     "data": {
      "image/png": "[encoded data removed]",
      "text/plain": [
       "<Figure size 972x324 with 2 Axes>"
      ]
     },
     "metadata": {},
     "output_type": "display_data"
    }
   ],
   "source": [
    "platforms = ['PS4', 'PS3', 'X360', 'XOne', '3DS', 'WiiU', 'Wii', 'PC']\n",
    "for i in platforms:\n",
    "    x_critic = df_new.loc[(df_new['platform']==i) & (df_new['critic_score'] != 7777.0)]['critic_score']\n",
    "    y_critic = df_new.loc[(df_new['platform']==i) & (df_new['critic_score'] != 7777.0)]['total_sum']\n",
    "    x_user = df_new.loc[(df_new['platform']==i) & (df_new['user_score'] != 7777.0)]['user_score']\n",
    "    y_user = df_new.loc[(df_new['platform']==i) & (df_new['user_score'] != 7777.0)]['total_sum']\n",
    "    \n",
    "    fig = plt.figure(figsize=(13.5, 4.5))\n",
    "    \n",
    "    ax1 = fig.add_subplot(121)\n",
    "    ax1.scatter(x_critic, y_critic)\n",
    "    ax1.set_title('Зависимость продаж от оценок критиков\\n на платформе '+i, fontsize=14, fontweight=\"bold\")\n",
    "    print('корреляция Пирсона от оценок критиков\\n'+i,'-', x_critic.corr(y_critic))\n",
    "\n",
    "    ax2 = fig.add_subplot(122)\n",
    "    ax2.scatter(x_user, y_user)\n",
    "    ax2.set_title('Зависимость продаж от оценок пользователей\\n на платформе '+i, fontsize=14, fontweight=\"bold\")\n",
    "    print('корреляция Пирсона от оценок пользователей\\n'+i, '-', x_user.corr(y_user))"
   ]
  },
  {
   "cell_type": "markdown",
   "metadata": {},
   "source": [
    "Платформу Wii исключаем из вывода, так как очень мало данных.\n",
    "У всех топовых платформ (PS4, PS3, 3DS, X360 и XOne) наблюдается слабая зависимость продаж от отзывов критиков и отсутствие зависимости от отзывов пользователей, что говорит о том, что мнение критиков можно использовать для маркетинговых активностей, которые помогут увеличению ценовой политики (медианное значение) и продаж в целом\n"
   ]
  },
  {
   "cell_type": "markdown",
   "metadata": {},
   "source": [
    "Посмотрела на общее распределение игр по жанрам. Выделила жанры с высокими и низкими продажами"
   ]
  },
  {
   "cell_type": "code",
   "execution_count": 20,
   "metadata": {},
   "outputs": [
    {
     "data": {
      "image/png": "[encoded data removed]",
      "text/plain": [
       "<Figure size 1080x720 with 1 Axes>"
      ]
     },
     "metadata": {},
     "output_type": "display_data"
    }
   ],
   "source": [
    "df_new.pivot_table(index='genre', values='total_sum', aggfunc='sum').reset_index().plot(kind='bar', x='genre', y='total_sum')\n",
    "plt.ylabel('total_sales')\n",
    "plt.show()"
   ]
  },
  {
   "cell_type": "markdown",
   "metadata": {},
   "source": [
    "Выделила жанры, которые лидируют по кол-ву продаж"
   ]
  },
  {
   "cell_type": "code",
   "execution_count": 21,
   "metadata": {},
   "outputs": [
    {
     "data": {
      "image/png": "[encoded data removed]",
      "text/plain": [
       "<Figure size 1080x720 with 1 Axes>"
      ]
     },
     "metadata": {},
     "output_type": "display_data"
    }
   ],
   "source": [
    "(\n",
    "df_new.pivot_table(index='genre', values='name', aggfunc='count').reset_index()\n",
    ".plot(kind='bar', x='genre', y='name')\n",
    ")\n",
    "plt.ylabel('number of games')\n",
    "plt.show()"
   ]
  },
  {
   "cell_type": "markdown",
   "metadata": {},
   "source": [
    "Посмотрела диаграмму размаха по жанрам с учетом актуального периода"
   ]
  },
  {
   "cell_type": "code",
   "execution_count": 22,
   "metadata": {},
   "outputs": [
    {
     "data": {
      "image/png": "[encoded data removed]",
      "text/plain": [
       "<Figure size 1080x720 with 1 Axes>"
      ]
     },
     "metadata": {},
     "output_type": "display_data"
    }
   ],
   "source": [
    "sns.boxplot(data=df_new, x='genre', y='total_sum')\n",
    "plt.ylim(0, 3)\n",
    "plt.show()"
   ]
  },
  {
   "cell_type": "markdown",
   "metadata": {},
   "source": [
    "Посмотрела диаграмму размаха по жанрам"
   ]
  },
  {
   "cell_type": "code",
   "execution_count": 23,
   "metadata": {},
   "outputs": [
    {
     "data": {
      "image/png": "[encoded data removed]",
      "text/plain": [
       "<Figure size 1080x720 with 1 Axes>"
      ]
     },
     "metadata": {},
     "output_type": "display_data"
    }
   ],
   "source": [
    "sns.boxplot(data=df_new, x='genre', y='total_sum')\n",
    "plt.show()"
   ]
  },
  {
   "cell_type": "markdown",
   "metadata": {},
   "source": [
    "**Общее распределение по жанрам:**\n",
    "\n",
    "*Сумма*\n",
    "\n",
    "Самые высокие продажи по суммам имеют жанры Action, Role-Playing, Shooter и Sports. Низкие продажи Puzzle и Strategy\n",
    "\n",
    "\n",
    "*Кол-во*\n",
    "\n",
    "По кол-ву покупок лидируют Action, Role-Playing, Shooter, Sports и Adventure. Неожиданный вывод, что в данную выборку попал жанр Adventure, могу предположить, что очень дешевый вариант, при этом востребованный\n",
    "\n",
    "*Прибыль*\n",
    "\n",
    "Самые большие выбросы жанров Action, Role-Playing и Sports, при этом мы видим, что платформа Shooter самая прибыльная (высокое медианное значение), что еще раз подтверждает предположение о больших выбросах в рамках ранее озвученных платформ. Также Sports и Platform имеют высокие показатели медианного значения.\n",
    "Adventure и Puzzle имеют самые низкие продажи в целом, но не забываем, что с жанром Adventure продается значительное кол-во игр"
   ]
  },
  {
   "cell_type": "markdown",
   "metadata": {},
   "source": [
    "**Шаг 4. Составьте портрет пользователя каждого региона**"
   ]
  },
  {
   "cell_type": "markdown",
   "metadata": {},
   "source": [
    "Определила портрета для пользователя каждого региона (NA, EU, JP) c учетом популярных платформ"
   ]
  },
  {
   "cell_type": "code",
   "execution_count": 24,
   "metadata": {},
   "outputs": [
    {
     "data": {
      "image/png": "[encoded data removed]",
      "text/plain": [
       "<Figure size 1080x720 with 3 Axes>"
      ]
     },
     "metadata": {},
     "output_type": "display_data"
    },
    {
     "data": {
      "text/html": [
       "<div>\n",
       "<style scoped>\n",
       "    .dataframe tbody tr th:only-of-type {\n",
       "        vertical-align: middle;\n",
       "    }\n",
       "\n",
       "    .dataframe tbody tr th {\n",
       "        vertical-align: top;\n",
       "    }\n",
       "\n",
       "    .dataframe thead th {\n",
       "        text-align: right;\n",
       "    }\n",
       "</style>\n",
       "<table border=\"1\" class=\"dataframe\">\n",
       "  <thead>\n",
       "    <tr style=\"text-align: right;\">\n",
       "      <th></th>\n",
       "      <th>na_sales</th>\n",
       "      <th>eu_sales</th>\n",
       "      <th>jp_sales</th>\n",
       "    </tr>\n",
       "    <tr>\n",
       "      <th>platform</th>\n",
       "      <th></th>\n",
       "      <th></th>\n",
       "      <th></th>\n",
       "    </tr>\n",
       "  </thead>\n",
       "  <tbody>\n",
       "    <tr>\n",
       "      <th>X360</th>\n",
       "      <td>23.70</td>\n",
       "      <td>14.70</td>\n",
       "      <td>NaN</td>\n",
       "    </tr>\n",
       "    <tr>\n",
       "      <th>PS4</th>\n",
       "      <td>18.40</td>\n",
       "      <td>27.84</td>\n",
       "      <td>8.29</td>\n",
       "    </tr>\n",
       "    <tr>\n",
       "      <th>PS3</th>\n",
       "      <td>17.49</td>\n",
       "      <td>21.08</td>\n",
       "      <td>18.32</td>\n",
       "    </tr>\n",
       "    <tr>\n",
       "      <th>XOne</th>\n",
       "      <td>15.76</td>\n",
       "      <td>10.18</td>\n",
       "      <td>NaN</td>\n",
       "    </tr>\n",
       "    <tr>\n",
       "      <th>3DS</th>\n",
       "      <td>9.36</td>\n",
       "      <td>8.41</td>\n",
       "      <td>45.59</td>\n",
       "    </tr>\n",
       "    <tr>\n",
       "      <th>Other</th>\n",
       "      <td>15.29</td>\n",
       "      <td>17.78</td>\n",
       "      <td>10.12</td>\n",
       "    </tr>\n",
       "    <tr>\n",
       "      <th>PSV</th>\n",
       "      <td>NaN</td>\n",
       "      <td>NaN</td>\n",
       "      <td>10.93</td>\n",
       "    </tr>\n",
       "    <tr>\n",
       "      <th>WiiU</th>\n",
       "      <td>NaN</td>\n",
       "      <td>NaN</td>\n",
       "      <td>6.76</td>\n",
       "    </tr>\n",
       "  </tbody>\n",
       "</table>\n",
       "</div>"
      ],
      "text/plain": [
       "          na_sales  eu_sales  jp_sales\n",
       "platform                              \n",
       "X360         23.70     14.70       NaN\n",
       "PS4          18.40     27.84      8.29\n",
       "PS3          17.49     21.08     18.32\n",
       "XOne         15.76     10.18       NaN\n",
       "3DS           9.36      8.41     45.59\n",
       "Other        15.29     17.78     10.12\n",
       "PSV            NaN       NaN     10.93\n",
       "WiiU           NaN       NaN      6.76"
      ]
     },
     "execution_count": 24,
     "metadata": {},
     "output_type": "execute_result"
    }
   ],
   "source": [
    "regions = ['na_sales', 'eu_sales', 'jp_sales']\n",
    "name = ['Америка', 'Европа', 'Япония']\n",
    "\n",
    "platform_top_5 = []\n",
    "\n",
    "for i in regions:\n",
    "    df_platform = df_new.groupby('platform')[i].sum().sort_values(ascending = False)\n",
    "    df_platform_1 = df_platform.head()\n",
    "    df_platform_1.loc['Other'] =  df_platform.sum() - df_platform_1.sum()\n",
    "    df_platform_2 = 100*df_platform_1/df_new[i].sum()\n",
    "    platform_top_5.append(df_platform_2)\n",
    "    new_df = pd.DataFrame(platform_top_5).round(2).transpose()\n",
    "\n",
    "\n",
    "new_df.plot(kind='pie', autopct=lambda p: '{:.1f}%'.format(round(p)) if p > 0 else'', subplots=True, startangle=90, legend = False, fontsize=14, shadow=True, title=name)\n",
    "plt.show()\n",
    "       \n",
    "new_df"
   ]
  },
  {
   "cell_type": "markdown",
   "metadata": {},
   "source": [
    "Лидеры продаж во всех регионах разные: Америка - X360, Европа - PS4 и Япония - 3DS. В Америке и Европе пользуются в основном одними и теми же платформами - X360, PS4, 3DS, PS3 и XOne. В Японии совсем другая картина: тут более популярны платформы 3DS, PSV, WiiU, но PS3, PS4"
   ]
  },
  {
   "cell_type": "markdown",
   "metadata": {},
   "source": [
    "Определила портрета для пользователя каждого региона (NA, EU, JP) c учетом популярных жанров"
   ]
  },
  {
   "cell_type": "code",
   "execution_count": 25,
   "metadata": {},
   "outputs": [
    {
     "data": {
      "image/png": "[encoded data removed]",
      "text/plain": [
       "<Figure size 1080x720 with 3 Axes>"
      ]
     },
     "metadata": {},
     "output_type": "display_data"
    },
    {
     "data": {
      "text/html": [
       "<div>\n",
       "<style scoped>\n",
       "    .dataframe tbody tr th:only-of-type {\n",
       "        vertical-align: middle;\n",
       "    }\n",
       "\n",
       "    .dataframe tbody tr th {\n",
       "        vertical-align: top;\n",
       "    }\n",
       "\n",
       "    .dataframe thead th {\n",
       "        text-align: right;\n",
       "    }\n",
       "</style>\n",
       "<table border=\"1\" class=\"dataframe\">\n",
       "  <thead>\n",
       "    <tr style=\"text-align: right;\">\n",
       "      <th></th>\n",
       "      <th>na_sales</th>\n",
       "      <th>eu_sales</th>\n",
       "      <th>jp_sales</th>\n",
       "    </tr>\n",
       "    <tr>\n",
       "      <th>genre</th>\n",
       "      <th></th>\n",
       "      <th></th>\n",
       "      <th></th>\n",
       "    </tr>\n",
       "  </thead>\n",
       "  <tbody>\n",
       "    <tr>\n",
       "      <th>Action</th>\n",
       "      <td>30.09</td>\n",
       "      <td>31.44</td>\n",
       "      <td>27.42</td>\n",
       "    </tr>\n",
       "    <tr>\n",
       "      <th>Shooter</th>\n",
       "      <td>24.50</td>\n",
       "      <td>22.39</td>\n",
       "      <td>NaN</td>\n",
       "    </tr>\n",
       "    <tr>\n",
       "      <th>Sports</th>\n",
       "      <td>13.80</td>\n",
       "      <td>13.63</td>\n",
       "      <td>NaN</td>\n",
       "    </tr>\n",
       "    <tr>\n",
       "      <th>Role-Playing</th>\n",
       "      <td>10.83</td>\n",
       "      <td>9.58</td>\n",
       "      <td>33.98</td>\n",
       "    </tr>\n",
       "    <tr>\n",
       "      <th>Misc</th>\n",
       "      <td>6.46</td>\n",
       "      <td>NaN</td>\n",
       "      <td>6.68</td>\n",
       "    </tr>\n",
       "    <tr>\n",
       "      <th>Other</th>\n",
       "      <td>14.32</td>\n",
       "      <td>17.58</td>\n",
       "      <td>21.62</td>\n",
       "    </tr>\n",
       "    <tr>\n",
       "      <th>Racing</th>\n",
       "      <td>NaN</td>\n",
       "      <td>5.38</td>\n",
       "      <td>NaN</td>\n",
       "    </tr>\n",
       "    <tr>\n",
       "      <th>Simulation</th>\n",
       "      <td>NaN</td>\n",
       "      <td>NaN</td>\n",
       "      <td>5.41</td>\n",
       "    </tr>\n",
       "    <tr>\n",
       "      <th>Fighting</th>\n",
       "      <td>NaN</td>\n",
       "      <td>NaN</td>\n",
       "      <td>4.90</td>\n",
       "    </tr>\n",
       "  </tbody>\n",
       "</table>\n",
       "</div>"
      ],
      "text/plain": [
       "              na_sales  eu_sales  jp_sales\n",
       "genre                                     \n",
       "Action           30.09     31.44     27.42\n",
       "Shooter          24.50     22.39       NaN\n",
       "Sports           13.80     13.63       NaN\n",
       "Role-Playing     10.83      9.58     33.98\n",
       "Misc              6.46       NaN      6.68\n",
       "Other            14.32     17.58     21.62\n",
       "Racing             NaN      5.38       NaN\n",
       "Simulation         NaN       NaN      5.41\n",
       "Fighting           NaN       NaN      4.90"
      ]
     },
     "execution_count": 25,
     "metadata": {},
     "output_type": "execute_result"
    }
   ],
   "source": [
    "regions = ['na_sales', 'eu_sales', 'jp_sales']\n",
    "name = ['Америка', 'Европа', 'Япония']\n",
    "\n",
    "genre_top_5 = []\n",
    "\n",
    "\n",
    "for i in regions:\n",
    "    df_genre = df_new.groupby('genre')[i].sum().sort_values(ascending = False)\n",
    "    df_genre_1 = df_genre.head()\n",
    "    df_genre_1.loc['Other'] =  df_genre.sum() - df_genre_1.sum()\n",
    "    df_genre_2 = 100*df_genre_1/df_new[i].sum()\n",
    "    genre_top_5.append(df_genre_2)\n",
    "    new_df_genre = pd.DataFrame(genre_top_5).round(2).transpose()\n",
    "\n",
    "\n",
    "new_df_genre.plot(kind='pie', autopct=lambda p: '{:.1f}%'.format(round(p)) if p > 0 else'', subplots=True, startangle=90, legend = False, fontsize=14, shadow=True, title=name)\n",
    "plt.show()\n",
    "       \n",
    "new_df_genre"
   ]
  },
  {
   "cell_type": "markdown",
   "metadata": {},
   "source": [
    "<font color='DarkBlue'><b>Комментарий ревьюера 2</b></font><br>\n",
    "<font color='DarkGreen'>👌 Молодец! <br>Теперь на круговых диаграммах хорошо видны все региональные рынки игр с разбиением на платформы/жанры. Какая платформа/жанр занимает какую долю рынка. И наша визуализация несет определенную бизнес-логику, связанную именно с долями рынка занимаемыми платформами/жанрами. А этого не дают другие виды диаграмм.</font>"
   ]
  },
  {
   "cell_type": "markdown",
   "metadata": {},
   "source": [
    "В Америке и Европе совпадают топ-4 жанра Action, Sports, Shoter и менее популярна Role-Playing. В Японии же другая культура поэтому и лидирует жанр Role-Playing, хотя тоже очень популярна Action, а также Misc, Simulation и Fighting"
   ]
  },
  {
   "cell_type": "markdown",
   "metadata": {},
   "source": [
    "Проверила влияние рейтинга ESRB на продажи в отдельном регионе"
   ]
  },
  {
   "cell_type": "code",
   "execution_count": 26,
   "metadata": {},
   "outputs": [
    {
     "data": {
      "text/html": [
       "<div>\n",
       "<style scoped>\n",
       "    .dataframe tbody tr th:only-of-type {\n",
       "        vertical-align: middle;\n",
       "    }\n",
       "\n",
       "    .dataframe tbody tr th {\n",
       "        vertical-align: top;\n",
       "    }\n",
       "\n",
       "    .dataframe thead th {\n",
       "        text-align: right;\n",
       "    }\n",
       "</style>\n",
       "<table border=\"1\" class=\"dataframe\">\n",
       "  <thead>\n",
       "    <tr style=\"text-align: right;\">\n",
       "      <th></th>\n",
       "      <th>eu_sales</th>\n",
       "      <th>jp_sales</th>\n",
       "      <th>na_sales</th>\n",
       "    </tr>\n",
       "    <tr>\n",
       "      <th>rating</th>\n",
       "      <th></th>\n",
       "      <th></th>\n",
       "      <th></th>\n",
       "    </tr>\n",
       "  </thead>\n",
       "  <tbody>\n",
       "    <tr>\n",
       "      <th>T</th>\n",
       "      <td>52.96</td>\n",
       "      <td>26.02</td>\n",
       "      <td>66.02</td>\n",
       "    </tr>\n",
       "    <tr>\n",
       "      <th>E10+</th>\n",
       "      <td>55.37</td>\n",
       "      <td>8.19</td>\n",
       "      <td>75.70</td>\n",
       "    </tr>\n",
       "    <tr>\n",
       "      <th>Nan</th>\n",
       "      <td>91.50</td>\n",
       "      <td>108.84</td>\n",
       "      <td>103.31</td>\n",
       "    </tr>\n",
       "    <tr>\n",
       "      <th>E</th>\n",
       "      <td>113.03</td>\n",
       "      <td>28.33</td>\n",
       "      <td>114.37</td>\n",
       "    </tr>\n",
       "    <tr>\n",
       "      <th>M</th>\n",
       "      <td>193.96</td>\n",
       "      <td>21.20</td>\n",
       "      <td>231.57</td>\n",
       "    </tr>\n",
       "  </tbody>\n",
       "</table>\n",
       "</div>"
      ],
      "text/plain": [
       "        eu_sales  jp_sales  na_sales\n",
       "rating                              \n",
       "T          52.96     26.02     66.02\n",
       "E10+       55.37      8.19     75.70\n",
       "Nan        91.50    108.84    103.31\n",
       "E         113.03     28.33    114.37\n",
       "M         193.96     21.20    231.57"
      ]
     },
     "execution_count": 26,
     "metadata": {},
     "output_type": "execute_result"
    }
   ],
   "source": [
    "esrb_sale2 = df_new.pivot_table(index='rating', values=['na_sales', 'eu_sales', 'jp_sales'], aggfunc='sum')\n",
    "esrb_sale2.sort_values(by='eu_sales')\n"
   ]
  },
  {
   "cell_type": "markdown",
   "metadata": {},
   "source": [
    "Влияние рейтинга на продажи есть только в Америке и Европе, динамика по проникновению аналогичная (на первом месте М и Е на втором). В Японии данный рейтинг не несет ценности"
   ]
  },
  {
   "cell_type": "markdown",
   "metadata": {},
   "source": [
    "**Шаг 5. Проверьте гипотезы**"
   ]
  },
  {
   "cell_type": "markdown",
   "metadata": {},
   "source": [
    "H_0: cредние пользовательские рейтинги платформ Xbox One и PC одинаковые\n",
    "\n",
    "H_a: cредние пользовательские рейтинги платформ Xbox One и PC разные \n",
    "\n",
    "alpha = 0.05"
   ]
  },
  {
   "cell_type": "code",
   "execution_count": 27,
   "metadata": {},
   "outputs": [
    {
     "name": "stdout",
     "output_type": "stream",
     "text": [
      "p-значение: 0.5489537965134912\n",
      "Не получилось отвергнуть нулевую гипотезу\n"
     ]
    }
   ],
   "source": [
    "user_score_xone = df_new['user_score'].loc[(df_new['user_score'] != 7777.0) & (df_new['platform'] == 'XOne')]\n",
    "user_score_pc = df_new['user_score'].loc[(df_new['user_score']!= 7777.0) & (df_new['platform'] == 'PC')]\n",
    "\n",
    "result = st.ttest_ind(user_score_xone, user_score_pc, equal_var = False)\n",
    "alpha = .05\n",
    "\n",
    "print('p-значение:', result.pvalue)\n",
    "\n",
    "if result.pvalue < alpha:\n",
    "     print ('Отвергаем нулевую гипотезу')\n",
    "else:\n",
    "    print ('Не получилось отвергнуть нулевую гипотезу')"
   ]
  },
  {
   "cell_type": "markdown",
   "metadata": {},
   "source": [
    "H_0:cредние пользовательские рейтинги жанров Action (англ. «действие», экшен-игры) и Sports (англ. «спортивные соревнования») одинаковые\n",
    "\n",
    "H_a:cредние пользовательские рейтинги жанров Action (англ. «действие», экшен-игры) и Sports (англ. «спортивные соревнования») разные\n",
    "\n",
    "alpha = 0.05"
   ]
  },
  {
   "cell_type": "code",
   "execution_count": 28,
   "metadata": {},
   "outputs": [
    {
     "name": "stdout",
     "output_type": "stream",
     "text": [
      "p-значение: 4.24307776572644e-20\n",
      "Отвергаем нулевую гипотезу\n"
     ]
    }
   ],
   "source": [
    "user_action = df_new['user_score'].loc[(df_new['user_score'] != 7777.0) & (df_new['genre'] == 'Action')]\n",
    "user_sports = df_new['user_score'].loc[(df_new['user_score'] != 7777.0) & (df_new['genre'] == 'Sports')]\n",
    "\n",
    "result = st.ttest_ind(user_action, user_sports, equal_var=False)\n",
    "alpha = 0.05\n",
    "\n",
    "print('p-значение:', result.pvalue)\n",
    "if result.pvalue < alpha:\n",
    "    print ('Отвергаем нулевую гипотезу')\n",
    "else:\n",
    "    print ('Не получилось отвергнуть нулевую гипотезу')"
   ]
  },
  {
   "cell_type": "markdown",
   "metadata": {},
   "source": [
    "*Как сформулировала нулевую и альтернативную гипотезы*\n",
    "\n",
    "Нулевая гипотеза всегда проверяет равенство двух выборок, а альтернативная противоположную историю (разность) с учетом этого правила формировала гипотезы\n",
    "\n",
    "*Критерий, который применила для проверки гипотез и почему*\n",
    "\n",
    "Исторически сложилось, что по умолчанию берут 0.05. Для уменьшения Ложно-Положительных результатов порог альфа снижают, но я не стала, оставила общепринятое значение"
   ]
  },
  {
   "cell_type": "markdown",
   "metadata": {},
   "source": [
    "**Шаг 6. Напишите общий вывод**"
   ]
  },
  {
   "cell_type": "markdown",
   "metadata": {},
   "source": [
    "***Главные факторы/закономерности, которые влияют на успешность игры:***\n",
    "\n",
    "1. Платформы, на которые стоит обратить внимание должны быть выпущены не более 3 -ух лет назад от 2017, так как их пик скорей всего придется на 2017 г, при этом сейчас они должны показывать не плохую динамику.\n",
    "В нашем случае - это PS3/PS4 и 3DS/XOne/PSV (отсутствует год) \n",
    "К сожалению, хотя платформа X360 одна из самых прибыльных, но скорей всего свой пик она уже прожила, продажи падают\n",
    "\n",
    "2. Жанр это один из факторов успешности продаж игры.\n",
    "В нашем случае стоит упор ставит на след жанры: Action, Role-Playing, Shooter, Sports, Platform и отдельно выделю Adventure (хорошее кол-во продаж, скорей всего дешевый вариант), которые при анализе показали хорошие продажи по сумме/кол-ву/прибыли\n",
    "\n",
    "3. При построении маркетинговых активностей стоит ставить уклон на отзывы критиков, а именно создавать активности на увеличение положительных отзывов критиков и в дальнейшем транслирование на аудиторию с учетом рекомендаций по платформам и жанрам. Данная манипуляция увеличит продажи и прибыль\n",
    "\n",
    "\n",
    "***Портрет пользователя каждого региона:***\n",
    "1. Лидеры продаж во всех регионах разные: Америка - X360, Европа - PS4 и Япония - 3DS. В Америке и Европе пользуются в основном одними и теми же платформами - X360, PS4, 3DS, PS3 и XOne. В Японии совсем другая картина: тут более популярны платформы 3DS, PSV, WiiU, но PS3, PS4. \n",
    "\n",
    "2. В Америке и Европе совпадают топ-4 жанра Action, Sports, Shoter и менее популярна Role-Playing. В Японии же другая культура поэтому и лидирует жанр Role-Playing, хотя тоже очень популярна Action, а также Misc, Simulation и Fighting\n",
    "\n",
    "3. Влияние рейтинга ESRB на продажи в разных регионах аналогичная\n",
    "\n",
    "4. С учетом вышесказанного политика ведение игрового бизнеса и маркетинга в Америке и Европе может быть схожа, а в Японии отличаться с учетом популярности иных платформ и жанров\n",
    "\n",
    "***С учетом вышенаписанного анализа направляю след рекомендации:***\n",
    "1. Для Америки и Европы будет схожая рекламная активность и уклон на платформы PS4 и XOne, жанры - Action и Shooter, при этом пиарим отзывы критиков.\n",
    "Для игр/платформ с рейтингом esrb М стоит пересмотреть ценовую политику (увеличение цен)\n",
    "\n",
    "2. Для Японии рекламная активность будет завязана на платформах PS4 и 3DS, жанры - Role-Playing и Action, при этом пиарим отзывы критиков.\n",
    "Для платформы 3DS стоит пересмотреть ценовую политику, так как очень популярная в данном регионе. \n",
    "\n",
    "3. Для расширения продуктовой линейки необходимо создание новых игр с жанром Action для всех регионов\n"
   ]
  }
 ],
 "metadata": {
  "ExecuteTimeLog": [
   {
    "duration": 422,
    "start_time": "2022-07-15T11:16:02.553Z"
   },
   {
    "duration": 74,
    "start_time": "2022-07-15T11:16:54.435Z"
   },
   {
    "duration": 198,
    "start_time": "2022-07-15T11:17:03.388Z"
   },
   {
    "duration": 11,
    "start_time": "2022-07-15T11:17:34.185Z"
   },
   {
    "duration": 17,
    "start_time": "2022-07-15T11:17:39.084Z"
   },
   {
    "duration": 44,
    "start_time": "2022-07-15T11:17:55.911Z"
   },
   {
    "duration": 17,
    "start_time": "2022-07-15T11:18:03.080Z"
   },
   {
    "duration": 15,
    "start_time": "2022-07-15T11:18:07.051Z"
   },
   {
    "duration": 8,
    "start_time": "2022-07-15T11:21:25.665Z"
   },
   {
    "duration": 10,
    "start_time": "2022-07-15T11:25:48.739Z"
   },
   {
    "duration": 16,
    "start_time": "2022-07-15T11:27:46.254Z"
   },
   {
    "duration": 4,
    "start_time": "2022-07-15T11:27:53.897Z"
   },
   {
    "duration": 13,
    "start_time": "2022-07-15T11:28:25.438Z"
   },
   {
    "duration": 15,
    "start_time": "2022-07-15T11:28:32.302Z"
   },
   {
    "duration": 3,
    "start_time": "2022-07-15T11:28:39.360Z"
   },
   {
    "duration": 16,
    "start_time": "2022-07-15T11:29:39.022Z"
   },
   {
    "duration": 5,
    "start_time": "2022-07-15T11:30:21.154Z"
   },
   {
    "duration": 16,
    "start_time": "2022-07-15T11:30:33.155Z"
   },
   {
    "duration": 4,
    "start_time": "2022-07-15T11:30:41.272Z"
   },
   {
    "duration": 10,
    "start_time": "2022-07-15T11:50:53.680Z"
   },
   {
    "duration": 1492,
    "start_time": "2022-07-15T11:51:01.887Z"
   },
   {
    "duration": 11,
    "start_time": "2022-07-15T11:51:29.528Z"
   },
   {
    "duration": 12,
    "start_time": "2022-07-15T11:54:28.028Z"
   },
   {
    "duration": 9,
    "start_time": "2022-07-15T11:58:11.680Z"
   },
   {
    "duration": 14,
    "start_time": "2022-07-15T11:59:03.588Z"
   },
   {
    "duration": 43,
    "start_time": "2022-07-16T07:35:56.976Z"
   },
   {
    "duration": 362,
    "start_time": "2022-07-16T07:36:03.434Z"
   },
   {
    "duration": 94,
    "start_time": "2022-07-16T07:36:03.798Z"
   },
   {
    "duration": 19,
    "start_time": "2022-07-16T07:36:04.033Z"
   },
   {
    "duration": 14,
    "start_time": "2022-07-16T07:36:04.269Z"
   },
   {
    "duration": 14,
    "start_time": "2022-07-16T07:36:04.580Z"
   },
   {
    "duration": 10,
    "start_time": "2022-07-16T07:36:07.406Z"
   },
   {
    "duration": 14,
    "start_time": "2022-07-16T07:36:08.842Z"
   },
   {
    "duration": 19,
    "start_time": "2022-07-16T07:39:55.901Z"
   },
   {
    "duration": 4,
    "start_time": "2022-07-16T07:48:45.631Z"
   },
   {
    "duration": 67,
    "start_time": "2022-07-16T07:48:46.013Z"
   },
   {
    "duration": 13,
    "start_time": "2022-07-16T07:48:46.316Z"
   },
   {
    "duration": 14,
    "start_time": "2022-07-16T07:48:46.565Z"
   },
   {
    "duration": 14,
    "start_time": "2022-07-16T07:48:46.839Z"
   },
   {
    "duration": 7,
    "start_time": "2022-07-16T07:48:47.665Z"
   },
   {
    "duration": 15,
    "start_time": "2022-07-16T07:58:21.838Z"
   },
   {
    "duration": 46,
    "start_time": "2022-07-16T07:59:54.227Z"
   },
   {
    "duration": 2643,
    "start_time": "2022-07-16T08:00:09.426Z"
   },
   {
    "duration": 20,
    "start_time": "2022-07-16T08:02:56.929Z"
   },
   {
    "duration": 2524,
    "start_time": "2022-07-16T08:04:07.325Z"
   },
   {
    "duration": 15,
    "start_time": "2022-07-16T08:04:57.624Z"
   },
   {
    "duration": 2638,
    "start_time": "2022-07-16T08:06:09.532Z"
   },
   {
    "duration": 43,
    "start_time": "2022-07-16T08:17:36.982Z"
   },
   {
    "duration": 20,
    "start_time": "2022-07-16T08:18:04.374Z"
   },
   {
    "duration": 47,
    "start_time": "2022-07-16T08:19:49.188Z"
   },
   {
    "duration": 19,
    "start_time": "2022-07-16T08:37:19.995Z"
   },
   {
    "duration": 11,
    "start_time": "2022-07-16T08:45:03.949Z"
   },
   {
    "duration": 3,
    "start_time": "2022-07-16T08:49:45.761Z"
   },
   {
    "duration": 47,
    "start_time": "2022-07-16T08:49:46.032Z"
   },
   {
    "duration": 16,
    "start_time": "2022-07-16T08:49:46.324Z"
   },
   {
    "duration": 15,
    "start_time": "2022-07-16T08:49:46.593Z"
   },
   {
    "duration": 15,
    "start_time": "2022-07-16T08:49:47.456Z"
   },
   {
    "duration": 13,
    "start_time": "2022-07-16T08:49:50.918Z"
   },
   {
    "duration": 33335,
    "start_time": "2022-07-16T08:51:34.709Z"
   },
   {
    "duration": 31708,
    "start_time": "2022-07-16T08:57:03.566Z"
   },
   {
    "duration": 16,
    "start_time": "2022-07-16T09:04:21.840Z"
   },
   {
    "duration": 25,
    "start_time": "2022-07-16T09:09:28.018Z"
   },
   {
    "duration": 21,
    "start_time": "2022-07-16T09:09:43.865Z"
   },
   {
    "duration": 36,
    "start_time": "2022-07-16T09:10:36.199Z"
   },
   {
    "duration": 2,
    "start_time": "2022-07-16T09:10:58.297Z"
   },
   {
    "duration": 74,
    "start_time": "2022-07-16T09:10:58.763Z"
   },
   {
    "duration": 14,
    "start_time": "2022-07-16T09:10:59.269Z"
   },
   {
    "duration": 19,
    "start_time": "2022-07-16T09:10:59.930Z"
   },
   {
    "duration": 24,
    "start_time": "2022-07-16T09:11:00.488Z"
   },
   {
    "duration": 8,
    "start_time": "2022-07-16T09:11:01.156Z"
   },
   {
    "duration": 33995,
    "start_time": "2022-07-16T09:11:04.452Z"
   },
   {
    "duration": 25,
    "start_time": "2022-07-16T09:13:12.286Z"
   },
   {
    "duration": 3,
    "start_time": "2022-07-16T09:17:26.763Z"
   },
   {
    "duration": 53,
    "start_time": "2022-07-16T09:17:27.312Z"
   },
   {
    "duration": 13,
    "start_time": "2022-07-16T09:17:27.926Z"
   },
   {
    "duration": 12,
    "start_time": "2022-07-16T09:17:28.778Z"
   },
   {
    "duration": 22,
    "start_time": "2022-07-16T09:17:32.506Z"
   },
   {
    "duration": 7,
    "start_time": "2022-07-16T09:17:34.449Z"
   },
   {
    "duration": 31673,
    "start_time": "2022-07-16T09:17:37.971Z"
   },
   {
    "duration": 17,
    "start_time": "2022-07-16T09:18:26.324Z"
   },
   {
    "duration": 50,
    "start_time": "2022-07-16T09:28:30.423Z"
   },
   {
    "duration": 16,
    "start_time": "2022-07-16T09:28:46.248Z"
   },
   {
    "duration": 55,
    "start_time": "2022-07-16T09:29:27.024Z"
   },
   {
    "duration": 896,
    "start_time": "2022-07-16T09:29:34.462Z"
   },
   {
    "duration": 368,
    "start_time": "2022-07-16T09:30:22.083Z"
   },
   {
    "duration": 430,
    "start_time": "2022-07-16T09:30:33.610Z"
   },
   {
    "duration": 360,
    "start_time": "2022-07-16T09:30:55.809Z"
   },
   {
    "duration": 327,
    "start_time": "2022-07-16T09:31:09.922Z"
   },
   {
    "duration": 142,
    "start_time": "2022-07-16T09:42:29.922Z"
   },
   {
    "duration": 167,
    "start_time": "2022-07-16T09:43:04.499Z"
   },
   {
    "duration": 264,
    "start_time": "2022-07-16T09:44:07.222Z"
   },
   {
    "duration": 264,
    "start_time": "2022-07-16T09:47:54.332Z"
   },
   {
    "duration": 315,
    "start_time": "2022-07-16T09:49:23.512Z"
   },
   {
    "duration": 248,
    "start_time": "2022-07-16T09:50:21.986Z"
   },
   {
    "duration": 266,
    "start_time": "2022-07-16T09:50:47.801Z"
   },
   {
    "duration": 274,
    "start_time": "2022-07-16T09:57:50.504Z"
   },
   {
    "duration": 250,
    "start_time": "2022-07-16T09:58:10.483Z"
   },
   {
    "duration": 259,
    "start_time": "2022-07-16T09:58:40.667Z"
   },
   {
    "duration": 1097,
    "start_time": "2022-07-16T10:07:52.325Z"
   },
   {
    "duration": 70,
    "start_time": "2022-07-16T10:11:32.589Z"
   },
   {
    "duration": 279,
    "start_time": "2022-07-16T10:11:52.357Z"
   },
   {
    "duration": 381,
    "start_time": "2022-07-16T10:12:11.086Z"
   },
   {
    "duration": 1140,
    "start_time": "2022-07-16T10:12:22.552Z"
   },
   {
    "duration": 56,
    "start_time": "2022-07-16T10:17:37.770Z"
   },
   {
    "duration": 78,
    "start_time": "2022-07-16T10:17:50.918Z"
   },
   {
    "duration": 305,
    "start_time": "2022-07-16T10:18:21.800Z"
   },
   {
    "duration": 77,
    "start_time": "2022-07-16T10:19:49.860Z"
   },
   {
    "duration": 1019,
    "start_time": "2022-07-16T10:20:09.705Z"
   },
   {
    "duration": 1082,
    "start_time": "2022-07-16T10:21:32.619Z"
   },
   {
    "duration": 1156,
    "start_time": "2022-07-16T10:21:47.159Z"
   },
   {
    "duration": 1067,
    "start_time": "2022-07-16T10:25:00.482Z"
   },
   {
    "duration": 1259,
    "start_time": "2022-07-16T10:28:04.379Z"
   },
   {
    "duration": 885,
    "start_time": "2022-07-16T10:28:18.755Z"
   },
   {
    "duration": 371,
    "start_time": "2022-07-16T10:31:40.238Z"
   },
   {
    "duration": 1169,
    "start_time": "2022-07-16T10:31:46.198Z"
   },
   {
    "duration": 1172,
    "start_time": "2022-07-16T10:32:21.487Z"
   },
   {
    "duration": 336,
    "start_time": "2022-07-16T10:33:14.452Z"
   },
   {
    "duration": 53,
    "start_time": "2022-07-16T10:34:10.835Z"
   },
   {
    "duration": 1310,
    "start_time": "2022-07-16T10:34:34.755Z"
   },
   {
    "duration": 5,
    "start_time": "2022-07-16T10:49:20.707Z"
   },
   {
    "duration": 18,
    "start_time": "2022-07-16T10:49:29.963Z"
   },
   {
    "duration": 17,
    "start_time": "2022-07-16T10:49:44.860Z"
   },
   {
    "duration": 28,
    "start_time": "2022-07-16T10:51:24.416Z"
   },
   {
    "duration": 13,
    "start_time": "2022-07-16T11:01:33.442Z"
   },
   {
    "duration": 14,
    "start_time": "2022-07-16T11:01:43.580Z"
   },
   {
    "duration": 186,
    "start_time": "2022-07-16T11:01:52.446Z"
   },
   {
    "duration": 238,
    "start_time": "2022-07-16T11:02:31.445Z"
   },
   {
    "duration": 237,
    "start_time": "2022-07-16T11:02:59.261Z"
   },
   {
    "duration": 18,
    "start_time": "2022-07-16T11:03:27.782Z"
   },
   {
    "duration": 259,
    "start_time": "2022-07-16T11:03:31.303Z"
   },
   {
    "duration": 202,
    "start_time": "2022-07-16T11:17:41.115Z"
   },
   {
    "duration": 8,
    "start_time": "2022-07-16T11:21:33.962Z"
   },
   {
    "duration": 520,
    "start_time": "2022-07-16T11:22:15.060Z"
   },
   {
    "duration": 55,
    "start_time": "2022-07-16T11:22:15.669Z"
   },
   {
    "duration": 13,
    "start_time": "2022-07-16T11:22:16.291Z"
   },
   {
    "duration": 14,
    "start_time": "2022-07-16T11:22:16.866Z"
   },
   {
    "duration": 21,
    "start_time": "2022-07-16T11:22:17.956Z"
   },
   {
    "duration": 8,
    "start_time": "2022-07-16T11:22:18.626Z"
   },
   {
    "duration": 32293,
    "start_time": "2022-07-16T11:22:19.877Z"
   },
   {
    "duration": 21,
    "start_time": "2022-07-16T11:23:39.470Z"
   },
   {
    "duration": 522,
    "start_time": "2022-07-16T11:23:40.888Z"
   },
   {
    "duration": 1041,
    "start_time": "2022-07-16T11:23:42.905Z"
   },
   {
    "duration": 18,
    "start_time": "2022-07-16T11:23:44.298Z"
   },
   {
    "duration": 233,
    "start_time": "2022-07-16T11:23:46.614Z"
   },
   {
    "duration": 149,
    "start_time": "2022-07-16T11:23:51.610Z"
   },
   {
    "duration": 383,
    "start_time": "2022-07-16T11:24:04.306Z"
   },
   {
    "duration": 578,
    "start_time": "2022-07-16T11:28:16.689Z"
   },
   {
    "duration": 471,
    "start_time": "2022-07-16T11:28:51.676Z"
   },
   {
    "duration": 2274,
    "start_time": "2022-07-16T11:31:24.274Z"
   },
   {
    "duration": 227,
    "start_time": "2022-07-16T11:32:19.859Z"
   },
   {
    "duration": 1933,
    "start_time": "2022-07-16T11:32:46.620Z"
   },
   {
    "duration": 229,
    "start_time": "2022-07-16T11:33:04.329Z"
   },
   {
    "duration": 2120,
    "start_time": "2022-07-16T11:33:07.577Z"
   },
   {
    "duration": 29,
    "start_time": "2022-07-16T11:35:59.025Z"
   },
   {
    "duration": 247,
    "start_time": "2022-07-16T11:36:23.214Z"
   },
   {
    "duration": 1571,
    "start_time": "2022-07-16T11:36:28.670Z"
   },
   {
    "duration": 1402,
    "start_time": "2022-07-16T11:37:16.813Z"
   },
   {
    "duration": 3,
    "start_time": "2022-07-16T11:38:15.209Z"
   },
   {
    "duration": 51,
    "start_time": "2022-07-16T11:38:15.816Z"
   },
   {
    "duration": 14,
    "start_time": "2022-07-16T11:38:16.096Z"
   },
   {
    "duration": 14,
    "start_time": "2022-07-16T11:38:16.373Z"
   },
   {
    "duration": 14,
    "start_time": "2022-07-16T11:38:16.907Z"
   },
   {
    "duration": 8,
    "start_time": "2022-07-16T11:38:17.157Z"
   },
   {
    "duration": 30176,
    "start_time": "2022-07-16T11:38:23.846Z"
   },
   {
    "duration": 18,
    "start_time": "2022-07-16T11:38:59.168Z"
   },
   {
    "duration": 411,
    "start_time": "2022-07-16T11:39:01.513Z"
   },
   {
    "duration": 620,
    "start_time": "2022-07-16T11:39:20.675Z"
   },
   {
    "duration": 1128,
    "start_time": "2022-07-16T11:39:36.013Z"
   },
   {
    "duration": 19,
    "start_time": "2022-07-16T11:39:42.352Z"
   },
   {
    "duration": 232,
    "start_time": "2022-07-16T11:39:45.783Z"
   },
   {
    "duration": 218,
    "start_time": "2022-07-16T11:39:50.853Z"
   },
   {
    "duration": 1528,
    "start_time": "2022-07-16T11:40:00.557Z"
   },
   {
    "duration": 1275,
    "start_time": "2022-07-16T11:41:01.355Z"
   },
   {
    "duration": 7,
    "start_time": "2022-07-16T11:41:21.396Z"
   },
   {
    "duration": 51,
    "start_time": "2022-07-16T11:41:22.922Z"
   },
   {
    "duration": 14,
    "start_time": "2022-07-16T11:41:23.551Z"
   },
   {
    "duration": 21,
    "start_time": "2022-07-16T11:41:24.199Z"
   },
   {
    "duration": 23,
    "start_time": "2022-07-16T11:41:25.893Z"
   },
   {
    "duration": 7,
    "start_time": "2022-07-16T11:41:26.668Z"
   },
   {
    "duration": 33239,
    "start_time": "2022-07-16T11:41:28.656Z"
   },
   {
    "duration": 19,
    "start_time": "2022-07-16T11:42:04.872Z"
   },
   {
    "duration": 527,
    "start_time": "2022-07-16T11:42:16.654Z"
   },
   {
    "duration": 1398,
    "start_time": "2022-07-16T11:42:25.769Z"
   },
   {
    "duration": 4,
    "start_time": "2022-07-16T11:43:59.713Z"
   },
   {
    "duration": 76,
    "start_time": "2022-07-16T11:44:00.144Z"
   },
   {
    "duration": 28,
    "start_time": "2022-07-16T11:44:00.490Z"
   },
   {
    "duration": 19,
    "start_time": "2022-07-16T11:44:00.777Z"
   },
   {
    "duration": 20,
    "start_time": "2022-07-16T11:44:01.471Z"
   },
   {
    "duration": 8,
    "start_time": "2022-07-16T11:44:01.881Z"
   },
   {
    "duration": 34860,
    "start_time": "2022-07-16T11:44:02.871Z"
   },
   {
    "duration": 22,
    "start_time": "2022-07-16T11:44:45.820Z"
   },
   {
    "duration": 831,
    "start_time": "2022-07-16T11:44:48.759Z"
   },
   {
    "duration": 525,
    "start_time": "2022-07-16T11:45:03.899Z"
   },
   {
    "duration": 4,
    "start_time": "2022-07-16T11:45:18.980Z"
   },
   {
    "duration": 63,
    "start_time": "2022-07-16T11:45:19.315Z"
   },
   {
    "duration": 16,
    "start_time": "2022-07-16T11:45:19.618Z"
   },
   {
    "duration": 16,
    "start_time": "2022-07-16T11:45:19.877Z"
   },
   {
    "duration": 26,
    "start_time": "2022-07-16T11:45:20.387Z"
   },
   {
    "duration": 12,
    "start_time": "2022-07-16T11:45:20.623Z"
   },
   {
    "duration": 41431,
    "start_time": "2022-07-16T11:45:21.054Z"
   },
   {
    "duration": 33,
    "start_time": "2022-07-16T11:46:02.488Z"
   },
   {
    "duration": 666,
    "start_time": "2022-07-16T11:46:02.523Z"
   },
   {
    "duration": 1491,
    "start_time": "2022-07-16T11:46:03.191Z"
   },
   {
    "duration": 1449,
    "start_time": "2022-07-16T11:46:20.490Z"
   },
   {
    "duration": 324,
    "start_time": "2022-07-16T11:46:30.359Z"
   },
   {
    "duration": 546,
    "start_time": "2022-07-16T11:46:58.622Z"
   },
   {
    "duration": 3,
    "start_time": "2022-07-16T13:01:44.718Z"
   },
   {
    "duration": 60,
    "start_time": "2022-07-16T13:01:45.463Z"
   },
   {
    "duration": 13,
    "start_time": "2022-07-16T13:01:46.212Z"
   },
   {
    "duration": 14,
    "start_time": "2022-07-16T13:01:46.911Z"
   },
   {
    "duration": 14,
    "start_time": "2022-07-16T13:01:48.279Z"
   },
   {
    "duration": 7,
    "start_time": "2022-07-16T13:01:48.931Z"
   },
   {
    "duration": 29563,
    "start_time": "2022-07-16T13:01:51.735Z"
   },
   {
    "duration": 16,
    "start_time": "2022-07-16T13:03:51.255Z"
   },
   {
    "duration": 413,
    "start_time": "2022-07-16T13:04:10.418Z"
   },
   {
    "duration": 45,
    "start_time": "2022-07-16T13:13:45.609Z"
   },
   {
    "duration": 1272,
    "start_time": "2022-07-16T13:13:53.804Z"
   },
   {
    "duration": 1707,
    "start_time": "2022-07-16T13:15:47.600Z"
   },
   {
    "duration": 1394,
    "start_time": "2022-07-16T13:17:48.081Z"
   },
   {
    "duration": 1505,
    "start_time": "2022-07-16T13:18:32.976Z"
   },
   {
    "duration": 30010,
    "start_time": "2022-07-16T13:22:29.243Z"
   },
   {
    "duration": 21,
    "start_time": "2022-07-16T13:39:56.352Z"
   },
   {
    "duration": 37,
    "start_time": "2022-07-16T14:01:27.277Z"
   },
   {
    "duration": 28,
    "start_time": "2022-07-16T14:01:56.266Z"
   },
   {
    "duration": 35,
    "start_time": "2022-07-16T14:02:42.780Z"
   },
   {
    "duration": 1004,
    "start_time": "2022-07-16T14:04:43.358Z"
   },
   {
    "duration": 1080,
    "start_time": "2022-07-16T14:05:47.394Z"
   },
   {
    "duration": 813,
    "start_time": "2022-07-16T14:14:17.924Z"
   },
   {
    "duration": 301,
    "start_time": "2022-07-16T14:16:04.685Z"
   },
   {
    "duration": 452,
    "start_time": "2022-07-16T14:16:20.813Z"
   },
   {
    "duration": 487,
    "start_time": "2022-07-16T14:16:30.786Z"
   },
   {
    "duration": 469,
    "start_time": "2022-07-16T14:17:08.894Z"
   },
   {
    "duration": 328,
    "start_time": "2022-07-16T14:17:20.737Z"
   },
   {
    "duration": 26,
    "start_time": "2022-07-16T14:25:13.202Z"
   },
   {
    "duration": 212,
    "start_time": "2022-07-16T14:30:08.141Z"
   },
   {
    "duration": 48,
    "start_time": "2022-07-16T14:40:18.353Z"
   },
   {
    "duration": 10,
    "start_time": "2022-07-16T14:44:13.031Z"
   },
   {
    "duration": 16,
    "start_time": "2022-07-16T14:44:21.638Z"
   },
   {
    "duration": 13,
    "start_time": "2022-07-16T14:46:15.515Z"
   },
   {
    "duration": 10,
    "start_time": "2022-07-16T14:47:51.078Z"
   },
   {
    "duration": 16,
    "start_time": "2022-07-16T14:54:38.647Z"
   },
   {
    "duration": 13,
    "start_time": "2022-07-16T14:55:01.226Z"
   },
   {
    "duration": 35,
    "start_time": "2022-07-16T14:55:08.999Z"
   },
   {
    "duration": 47,
    "start_time": "2022-07-16T15:04:56.286Z"
   },
   {
    "duration": 49,
    "start_time": "2022-07-16T15:05:13.639Z"
   },
   {
    "duration": 18,
    "start_time": "2022-07-16T15:05:29.579Z"
   },
   {
    "duration": 20,
    "start_time": "2022-07-16T15:09:11.797Z"
   },
   {
    "duration": 607,
    "start_time": "2022-07-16T15:10:23.608Z"
   },
   {
    "duration": 1211,
    "start_time": "2022-07-16T15:10:52.147Z"
   },
   {
    "duration": 1509,
    "start_time": "2022-07-16T15:11:13.350Z"
   },
   {
    "duration": 1975,
    "start_time": "2022-07-16T15:11:20.847Z"
   },
   {
    "duration": 2037,
    "start_time": "2022-07-16T15:11:57.593Z"
   },
   {
    "duration": 1372,
    "start_time": "2022-07-16T15:14:00.481Z"
   },
   {
    "duration": 1223,
    "start_time": "2022-07-16T15:19:14.064Z"
   },
   {
    "duration": 1188,
    "start_time": "2022-07-16T15:21:09.909Z"
   },
   {
    "duration": 1163,
    "start_time": "2022-07-16T15:22:31.879Z"
   },
   {
    "duration": 1521,
    "start_time": "2022-07-16T15:23:30.656Z"
   },
   {
    "duration": 1840,
    "start_time": "2022-07-16T15:24:06.658Z"
   },
   {
    "duration": 263,
    "start_time": "2022-07-16T15:24:58.618Z"
   },
   {
    "duration": 312,
    "start_time": "2022-07-16T15:25:09.146Z"
   },
   {
    "duration": 337,
    "start_time": "2022-07-16T15:35:39.886Z"
   },
   {
    "duration": 305,
    "start_time": "2022-07-16T15:37:11.520Z"
   },
   {
    "duration": 1244,
    "start_time": "2022-07-16T15:39:02.189Z"
   },
   {
    "duration": 1160,
    "start_time": "2022-07-16T15:40:40.698Z"
   },
   {
    "duration": 1456,
    "start_time": "2022-07-19T08:38:14.743Z"
   },
   {
    "duration": 97,
    "start_time": "2022-07-19T08:38:16.201Z"
   },
   {
    "duration": 24,
    "start_time": "2022-07-19T08:38:16.300Z"
   },
   {
    "duration": 14,
    "start_time": "2022-07-19T08:38:16.752Z"
   },
   {
    "duration": 20,
    "start_time": "2022-07-19T08:38:18.014Z"
   },
   {
    "duration": 10,
    "start_time": "2022-07-19T08:38:18.815Z"
   },
   {
    "duration": 34644,
    "start_time": "2022-07-19T08:38:24.319Z"
   },
   {
    "duration": 7,
    "start_time": "2022-07-19T08:39:52.956Z"
   },
   {
    "duration": 20,
    "start_time": "2022-07-19T08:40:01.639Z"
   },
   {
    "duration": 8,
    "start_time": "2022-07-19T08:40:12.936Z"
   },
   {
    "duration": 34087,
    "start_time": "2022-07-19T08:40:16.854Z"
   },
   {
    "duration": 12,
    "start_time": "2022-07-19T08:40:50.943Z"
   },
   {
    "duration": 14,
    "start_time": "2022-07-19T08:40:50.956Z"
   },
   {
    "duration": 524,
    "start_time": "2022-07-19T08:40:50.972Z"
   },
   {
    "duration": 1457,
    "start_time": "2022-07-19T08:40:52.859Z"
   },
   {
    "duration": 27,
    "start_time": "2022-07-19T08:40:54.317Z"
   },
   {
    "duration": 1387,
    "start_time": "2022-07-19T08:41:24.126Z"
   },
   {
    "duration": 33,
    "start_time": "2022-07-19T08:41:27.488Z"
   },
   {
    "duration": 366,
    "start_time": "2022-07-19T08:41:29.274Z"
   },
   {
    "duration": 1384,
    "start_time": "2022-07-19T08:51:43.519Z"
   },
   {
    "duration": 1332,
    "start_time": "2022-07-19T09:02:37.892Z"
   },
   {
    "duration": 176,
    "start_time": "2022-07-19T09:02:56.557Z"
   },
   {
    "duration": 99,
    "start_time": "2022-07-19T09:03:03.604Z"
   },
   {
    "duration": 1403,
    "start_time": "2022-07-19T09:03:11.549Z"
   },
   {
    "duration": 1340,
    "start_time": "2022-07-19T09:03:39.380Z"
   },
   {
    "duration": 113,
    "start_time": "2022-07-19T09:04:06.318Z"
   },
   {
    "duration": 1334,
    "start_time": "2022-07-19T09:04:18.878Z"
   },
   {
    "duration": 1500,
    "start_time": "2022-07-19T09:06:41.160Z"
   },
   {
    "duration": 3837,
    "start_time": "2022-07-19T09:26:15.197Z"
   },
   {
    "duration": 3021,
    "start_time": "2022-07-19T09:27:07.860Z"
   },
   {
    "duration": 347,
    "start_time": "2022-07-19T09:44:07.413Z"
   },
   {
    "duration": 3225,
    "start_time": "2022-07-19T09:44:17.085Z"
   },
   {
    "duration": 214,
    "start_time": "2022-07-19T09:45:16.953Z"
   },
   {
    "duration": 3132,
    "start_time": "2022-07-19T09:45:24.448Z"
   },
   {
    "duration": 259,
    "start_time": "2022-07-19T09:50:48.562Z"
   },
   {
    "duration": 244,
    "start_time": "2022-07-19T09:51:28.807Z"
   },
   {
    "duration": 211,
    "start_time": "2022-07-19T09:57:19.809Z"
   },
   {
    "duration": 245,
    "start_time": "2022-07-19T09:57:32.281Z"
   },
   {
    "duration": 20,
    "start_time": "2022-07-19T09:58:13.346Z"
   },
   {
    "duration": 241,
    "start_time": "2022-07-19T09:58:34.643Z"
   },
   {
    "duration": 294,
    "start_time": "2022-07-19T10:05:41.652Z"
   },
   {
    "duration": 399,
    "start_time": "2022-07-19T10:05:46.942Z"
   },
   {
    "duration": 310,
    "start_time": "2022-07-19T10:06:20.613Z"
   },
   {
    "duration": 310,
    "start_time": "2022-07-19T10:06:42.570Z"
   },
   {
    "duration": 306,
    "start_time": "2022-07-19T10:06:54.646Z"
   },
   {
    "duration": 206,
    "start_time": "2022-07-19T10:12:58.149Z"
   },
   {
    "duration": 229,
    "start_time": "2022-07-19T10:31:42.713Z"
   },
   {
    "duration": 3,
    "start_time": "2022-07-19T10:45:09.408Z"
   },
   {
    "duration": 2,
    "start_time": "2022-07-19T10:46:28.548Z"
   },
   {
    "duration": 840,
    "start_time": "2022-07-19T10:58:54.640Z"
   },
   {
    "duration": 244,
    "start_time": "2022-07-19T11:00:47.460Z"
   },
   {
    "duration": 2968,
    "start_time": "2022-07-19T11:01:02.212Z"
   },
   {
    "duration": 1330,
    "start_time": "2022-07-19T11:11:11.630Z"
   },
   {
    "duration": 230,
    "start_time": "2022-07-19T11:11:30.280Z"
   },
   {
    "duration": 251,
    "start_time": "2022-07-19T11:12:00.103Z"
   },
   {
    "duration": 7,
    "start_time": "2022-07-19T11:33:24.490Z"
   },
   {
    "duration": 31263,
    "start_time": "2022-07-19T11:33:32.813Z"
   },
   {
    "duration": 14,
    "start_time": "2022-07-19T11:35:59.190Z"
   },
   {
    "duration": 23,
    "start_time": "2022-07-19T11:35:59.786Z"
   },
   {
    "duration": 461,
    "start_time": "2022-07-19T11:36:00.994Z"
   },
   {
    "duration": 581,
    "start_time": "2022-07-19T11:36:02.181Z"
   },
   {
    "duration": 3,
    "start_time": "2022-07-19T11:36:21.539Z"
   },
   {
    "duration": 84,
    "start_time": "2022-07-19T11:36:22.205Z"
   },
   {
    "duration": 15,
    "start_time": "2022-07-19T11:36:22.789Z"
   },
   {
    "duration": 14,
    "start_time": "2022-07-19T11:36:23.364Z"
   },
   {
    "duration": 16,
    "start_time": "2022-07-19T11:36:24.513Z"
   },
   {
    "duration": 13,
    "start_time": "2022-07-19T11:36:25.145Z"
   },
   {
    "duration": 33447,
    "start_time": "2022-07-19T11:36:26.491Z"
   },
   {
    "duration": 13,
    "start_time": "2022-07-19T11:37:42.751Z"
   },
   {
    "duration": 17,
    "start_time": "2022-07-19T11:37:43.446Z"
   },
   {
    "duration": 495,
    "start_time": "2022-07-19T11:37:44.957Z"
   },
   {
    "duration": 1210,
    "start_time": "2022-07-19T11:37:50.846Z"
   },
   {
    "duration": 24,
    "start_time": "2022-07-19T11:37:56.348Z"
   },
   {
    "duration": 246,
    "start_time": "2022-07-19T11:37:57.609Z"
   },
   {
    "duration": 225,
    "start_time": "2022-07-19T11:37:58.898Z"
   },
   {
    "duration": 415,
    "start_time": "2022-07-19T11:37:59.845Z"
   },
   {
    "duration": 2936,
    "start_time": "2022-07-19T11:38:01.641Z"
   },
   {
    "duration": 2922,
    "start_time": "2022-07-19T11:38:27.965Z"
   },
   {
    "duration": 242,
    "start_time": "2022-07-19T11:38:33.621Z"
   },
   {
    "duration": 14,
    "start_time": "2022-07-19T11:38:34.412Z"
   },
   {
    "duration": 265,
    "start_time": "2022-07-19T11:38:56.498Z"
   },
   {
    "duration": 330,
    "start_time": "2022-07-19T11:38:57.841Z"
   },
   {
    "duration": 668,
    "start_time": "2022-07-19T11:39:02.679Z"
   },
   {
    "duration": 122,
    "start_time": "2022-07-19T11:41:25.795Z"
   },
   {
    "duration": 191,
    "start_time": "2022-07-19T11:42:38.526Z"
   },
   {
    "duration": 129,
    "start_time": "2022-07-19T11:48:50.408Z"
   },
   {
    "duration": 14,
    "start_time": "2022-07-19T11:54:30.216Z"
   },
   {
    "duration": 21,
    "start_time": "2022-07-19T11:54:45.903Z"
   },
   {
    "duration": 15,
    "start_time": "2022-07-19T11:55:07.428Z"
   },
   {
    "duration": 12,
    "start_time": "2022-07-19T12:00:26.897Z"
   },
   {
    "duration": 7,
    "start_time": "2022-07-19T12:00:40.849Z"
   },
   {
    "duration": 10,
    "start_time": "2022-07-19T12:02:47.377Z"
   },
   {
    "duration": 15,
    "start_time": "2022-07-19T12:04:05.585Z"
   },
   {
    "duration": 12,
    "start_time": "2022-07-19T12:04:16.934Z"
   },
   {
    "duration": 15,
    "start_time": "2022-07-19T12:04:34.961Z"
   },
   {
    "duration": 10,
    "start_time": "2022-07-19T12:04:57.218Z"
   },
   {
    "duration": 12,
    "start_time": "2022-07-19T12:06:27.594Z"
   },
   {
    "duration": 18,
    "start_time": "2022-07-19T12:09:59.096Z"
   },
   {
    "duration": 14,
    "start_time": "2022-07-19T12:10:07.731Z"
   },
   {
    "duration": 21,
    "start_time": "2022-07-19T12:10:20.301Z"
   },
   {
    "duration": 14,
    "start_time": "2022-07-19T12:10:39.823Z"
   },
   {
    "duration": 17,
    "start_time": "2022-07-19T12:11:03.046Z"
   },
   {
    "duration": 15,
    "start_time": "2022-07-19T12:11:09.722Z"
   },
   {
    "duration": 16,
    "start_time": "2022-07-19T12:11:55.354Z"
   },
   {
    "duration": 8,
    "start_time": "2022-07-19T12:13:46.450Z"
   },
   {
    "duration": 9,
    "start_time": "2022-07-19T12:13:51.412Z"
   },
   {
    "duration": 11,
    "start_time": "2022-07-19T12:13:58.822Z"
   },
   {
    "duration": 14,
    "start_time": "2022-07-19T12:19:12.386Z"
   },
   {
    "duration": 13,
    "start_time": "2022-07-19T12:21:55.758Z"
   },
   {
    "duration": 8,
    "start_time": "2022-07-19T12:22:01.640Z"
   },
   {
    "duration": 143,
    "start_time": "2022-07-19T12:22:03.921Z"
   },
   {
    "duration": 8,
    "start_time": "2022-07-19T12:22:06.995Z"
   },
   {
    "duration": 8,
    "start_time": "2022-07-19T12:22:10.125Z"
   },
   {
    "duration": 12,
    "start_time": "2022-07-19T12:22:20.423Z"
   },
   {
    "duration": 11,
    "start_time": "2022-07-19T12:23:03.169Z"
   },
   {
    "duration": 11,
    "start_time": "2022-07-19T12:23:11.176Z"
   },
   {
    "duration": 904,
    "start_time": "2022-07-19T12:32:52.178Z"
   },
   {
    "duration": 883,
    "start_time": "2022-07-19T12:33:35.782Z"
   },
   {
    "duration": 921,
    "start_time": "2022-07-19T12:33:51.909Z"
   },
   {
    "duration": 1563,
    "start_time": "2022-07-19T12:34:49.033Z"
   },
   {
    "duration": 8,
    "start_time": "2022-07-19T12:35:03.699Z"
   },
   {
    "duration": 11,
    "start_time": "2022-07-19T12:35:33.530Z"
   },
   {
    "duration": 1135,
    "start_time": "2022-07-19T12:36:02.054Z"
   },
   {
    "duration": 10,
    "start_time": "2022-07-19T12:36:14.342Z"
   },
   {
    "duration": 20,
    "start_time": "2022-07-19T12:39:08.516Z"
   },
   {
    "duration": 21,
    "start_time": "2022-07-19T12:39:27.100Z"
   },
   {
    "duration": 20,
    "start_time": "2022-07-19T12:40:09.774Z"
   },
   {
    "duration": 17,
    "start_time": "2022-07-19T12:40:14.128Z"
   },
   {
    "duration": 15,
    "start_time": "2022-07-19T12:42:04.066Z"
   },
   {
    "duration": 14,
    "start_time": "2022-07-19T12:42:21.933Z"
   },
   {
    "duration": 9,
    "start_time": "2022-07-19T12:42:58.182Z"
   },
   {
    "duration": 12,
    "start_time": "2022-07-19T12:43:50.338Z"
   },
   {
    "duration": 10,
    "start_time": "2022-07-19T12:43:57.034Z"
   },
   {
    "duration": 10,
    "start_time": "2022-07-19T12:44:04.537Z"
   },
   {
    "duration": 15,
    "start_time": "2022-07-19T12:44:24.438Z"
   },
   {
    "duration": 13,
    "start_time": "2022-07-19T12:47:58.222Z"
   },
   {
    "duration": 10,
    "start_time": "2022-07-19T12:58:35.973Z"
   },
   {
    "duration": 10,
    "start_time": "2022-07-19T12:58:39.944Z"
   },
   {
    "duration": 22,
    "start_time": "2022-07-19T12:58:54.497Z"
   },
   {
    "duration": 11,
    "start_time": "2022-07-19T13:02:16.577Z"
   },
   {
    "duration": 19,
    "start_time": "2022-07-19T13:02:23.929Z"
   },
   {
    "duration": 322,
    "start_time": "2022-07-19T13:08:21.513Z"
   },
   {
    "duration": 24,
    "start_time": "2022-07-19T13:08:53.637Z"
   },
   {
    "duration": 19,
    "start_time": "2022-07-19T13:09:19.538Z"
   },
   {
    "duration": 14,
    "start_time": "2022-07-19T13:10:40.640Z"
   },
   {
    "duration": 21,
    "start_time": "2022-07-19T13:11:04.066Z"
   },
   {
    "duration": 13,
    "start_time": "2022-07-19T13:13:59.332Z"
   },
   {
    "duration": 15,
    "start_time": "2022-07-19T13:14:22.094Z"
   },
   {
    "duration": 25,
    "start_time": "2022-07-19T13:14:32.533Z"
   },
   {
    "duration": 41,
    "start_time": "2022-07-19T13:14:44.775Z"
   },
   {
    "duration": 13,
    "start_time": "2022-07-19T13:15:02.078Z"
   },
   {
    "duration": 12,
    "start_time": "2022-07-19T13:15:14.665Z"
   },
   {
    "duration": 17,
    "start_time": "2022-07-19T13:15:52.441Z"
   },
   {
    "duration": 30,
    "start_time": "2022-07-19T13:16:01.758Z"
   },
   {
    "duration": 52,
    "start_time": "2022-07-19T13:17:28.441Z"
   },
   {
    "duration": 14,
    "start_time": "2022-07-19T13:18:57.504Z"
   },
   {
    "duration": 12,
    "start_time": "2022-07-19T13:19:12.430Z"
   },
   {
    "duration": 3,
    "start_time": "2022-07-19T13:29:05.312Z"
   },
   {
    "duration": 294,
    "start_time": "2022-07-19T13:30:00.860Z"
   },
   {
    "duration": 3127,
    "start_time": "2022-07-19T13:30:38.340Z"
   },
   {
    "duration": 3489,
    "start_time": "2022-07-19T13:31:35.801Z"
   },
   {
    "duration": 12,
    "start_time": "2022-07-19T13:34:38.121Z"
   },
   {
    "duration": 4,
    "start_time": "2022-07-19T13:35:30.628Z"
   },
   {
    "duration": 25,
    "start_time": "2022-07-19T13:40:08.827Z"
   },
   {
    "duration": 28,
    "start_time": "2022-07-19T13:40:33.857Z"
   },
   {
    "duration": 38,
    "start_time": "2022-07-19T13:40:56.028Z"
   },
   {
    "duration": 11,
    "start_time": "2022-07-19T13:50:34.173Z"
   },
   {
    "duration": 4,
    "start_time": "2022-07-19T13:50:39.960Z"
   },
   {
    "duration": 31,
    "start_time": "2022-07-19T13:53:09.720Z"
   },
   {
    "duration": 33,
    "start_time": "2022-07-19T13:54:31.326Z"
   },
   {
    "duration": 15,
    "start_time": "2022-07-19T13:56:10.531Z"
   },
   {
    "duration": 11,
    "start_time": "2022-07-19T13:56:32.631Z"
   },
   {
    "duration": 17,
    "start_time": "2022-07-19T13:56:35.486Z"
   },
   {
    "duration": 16,
    "start_time": "2022-07-19T13:57:14.120Z"
   },
   {
    "duration": 23,
    "start_time": "2022-07-19T13:57:31.123Z"
   },
   {
    "duration": 23,
    "start_time": "2022-07-19T13:58:36.108Z"
   },
   {
    "duration": 12,
    "start_time": "2022-07-19T13:59:10.946Z"
   },
   {
    "duration": 13,
    "start_time": "2022-07-19T13:59:22.339Z"
   },
   {
    "duration": 18,
    "start_time": "2022-07-19T13:59:57.703Z"
   },
   {
    "duration": 14,
    "start_time": "2022-07-19T14:01:30.651Z"
   },
   {
    "duration": 11,
    "start_time": "2022-07-19T14:01:42.110Z"
   },
   {
    "duration": 16,
    "start_time": "2022-07-19T14:02:09.630Z"
   },
   {
    "duration": 12,
    "start_time": "2022-07-19T14:02:21.645Z"
   },
   {
    "duration": 133,
    "start_time": "2022-07-19T14:05:16.415Z"
   },
   {
    "duration": 23,
    "start_time": "2022-07-19T14:05:45.926Z"
   },
   {
    "duration": 9,
    "start_time": "2022-07-19T14:06:06.289Z"
   },
   {
    "duration": 23,
    "start_time": "2022-07-19T14:06:22.317Z"
   },
   {
    "duration": 16,
    "start_time": "2022-07-19T14:06:24.602Z"
   },
   {
    "duration": 17,
    "start_time": "2022-07-19T14:07:37.369Z"
   },
   {
    "duration": 20,
    "start_time": "2022-07-19T14:08:18.025Z"
   },
   {
    "duration": 19,
    "start_time": "2022-07-19T14:44:59.568Z"
   },
   {
    "duration": 22,
    "start_time": "2022-07-19T14:46:22.942Z"
   },
   {
    "duration": 16,
    "start_time": "2022-07-19T14:48:01.136Z"
   },
   {
    "duration": 19,
    "start_time": "2022-07-19T14:48:09.198Z"
   },
   {
    "duration": 1080,
    "start_time": "2022-07-19T14:54:00.097Z"
   },
   {
    "duration": 1138,
    "start_time": "2022-07-19T14:54:14.463Z"
   },
   {
    "duration": 17,
    "start_time": "2022-07-19T14:54:37.725Z"
   },
   {
    "duration": 13,
    "start_time": "2022-07-19T14:56:35.458Z"
   },
   {
    "duration": 16,
    "start_time": "2022-07-19T14:56:54.665Z"
   },
   {
    "duration": 20,
    "start_time": "2022-07-19T14:57:23.214Z"
   },
   {
    "duration": 16,
    "start_time": "2022-07-19T14:58:00.992Z"
   },
   {
    "duration": 25,
    "start_time": "2022-07-19T15:00:01.084Z"
   },
   {
    "duration": 71,
    "start_time": "2022-07-19T15:04:07.206Z"
   },
   {
    "duration": 18,
    "start_time": "2022-07-19T15:04:58.694Z"
   },
   {
    "duration": 19,
    "start_time": "2022-07-19T15:05:16.659Z"
   },
   {
    "duration": 18,
    "start_time": "2022-07-19T15:11:25.139Z"
   },
   {
    "duration": 24,
    "start_time": "2022-07-19T15:12:58.589Z"
   },
   {
    "duration": 15,
    "start_time": "2022-07-19T15:15:15.641Z"
   },
   {
    "duration": 15,
    "start_time": "2022-07-19T15:16:31.526Z"
   },
   {
    "duration": 15,
    "start_time": "2022-07-19T15:16:39.438Z"
   },
   {
    "duration": 23,
    "start_time": "2022-07-19T15:17:46.642Z"
   },
   {
    "duration": 14,
    "start_time": "2022-07-19T15:22:42.949Z"
   },
   {
    "duration": 16,
    "start_time": "2022-07-19T15:22:52.669Z"
   },
   {
    "duration": 17,
    "start_time": "2022-07-19T15:23:04.589Z"
   },
   {
    "duration": 18,
    "start_time": "2022-07-19T15:25:20.628Z"
   },
   {
    "duration": 22,
    "start_time": "2022-07-19T15:25:29.300Z"
   },
   {
    "duration": 21,
    "start_time": "2022-07-19T15:28:13.366Z"
   },
   {
    "duration": 18,
    "start_time": "2022-07-19T15:28:39.562Z"
   },
   {
    "duration": 18,
    "start_time": "2022-07-19T15:28:46.785Z"
   },
   {
    "duration": 24,
    "start_time": "2022-07-19T15:28:58.540Z"
   },
   {
    "duration": 12,
    "start_time": "2022-07-19T15:34:13.985Z"
   },
   {
    "duration": 11,
    "start_time": "2022-07-19T15:34:43.383Z"
   },
   {
    "duration": 132,
    "start_time": "2022-07-19T15:40:29.782Z"
   },
   {
    "duration": 19,
    "start_time": "2022-07-19T15:46:23.844Z"
   },
   {
    "duration": 145,
    "start_time": "2022-07-19T15:52:20.898Z"
   },
   {
    "duration": 134,
    "start_time": "2022-07-19T15:52:32.895Z"
   },
   {
    "duration": 17,
    "start_time": "2022-07-19T15:52:59.073Z"
   },
   {
    "duration": 15,
    "start_time": "2022-07-19T15:54:33.319Z"
   },
   {
    "duration": 133,
    "start_time": "2022-07-19T15:54:58.871Z"
   },
   {
    "duration": 99,
    "start_time": "2022-07-19T16:09:35.146Z"
   },
   {
    "duration": 58,
    "start_time": "2022-07-19T16:19:12.894Z"
   },
   {
    "duration": 165,
    "start_time": "2022-07-19T16:20:49.770Z"
   },
   {
    "duration": 53,
    "start_time": "2022-07-19T16:26:19.246Z"
   },
   {
    "duration": 52,
    "start_time": "2022-07-19T16:26:25.817Z"
   },
   {
    "duration": 47,
    "start_time": "2022-07-19T16:26:36.409Z"
   },
   {
    "duration": 52,
    "start_time": "2022-07-19T16:28:12.618Z"
   },
   {
    "duration": 60,
    "start_time": "2022-07-19T16:28:24.479Z"
   },
   {
    "duration": 24,
    "start_time": "2022-07-19T16:28:31.693Z"
   },
   {
    "duration": 32,
    "start_time": "2022-07-19T16:28:43.917Z"
   },
   {
    "duration": 26,
    "start_time": "2022-07-19T16:34:29.391Z"
   },
   {
    "duration": 27,
    "start_time": "2022-07-19T16:39:34.261Z"
   },
   {
    "duration": 26,
    "start_time": "2022-07-19T16:40:12.539Z"
   },
   {
    "duration": 27,
    "start_time": "2022-07-19T16:40:20.907Z"
   },
   {
    "duration": 29,
    "start_time": "2022-07-19T16:41:07.524Z"
   },
   {
    "duration": 25,
    "start_time": "2022-07-19T16:44:24.299Z"
   },
   {
    "duration": 24,
    "start_time": "2022-07-19T16:45:00.332Z"
   },
   {
    "duration": 1298,
    "start_time": "2022-07-19T16:45:08.313Z"
   },
   {
    "duration": 940,
    "start_time": "2022-07-19T16:45:15.074Z"
   },
   {
    "duration": 868,
    "start_time": "2022-07-19T16:45:45.242Z"
   },
   {
    "duration": 773,
    "start_time": "2022-07-19T16:48:00.397Z"
   },
   {
    "duration": 893,
    "start_time": "2022-07-19T16:48:13.999Z"
   },
   {
    "duration": 819,
    "start_time": "2022-07-19T16:48:33.942Z"
   },
   {
    "duration": 858,
    "start_time": "2022-07-19T16:52:24.431Z"
   },
   {
    "duration": 142,
    "start_time": "2022-07-19T16:56:30.247Z"
   },
   {
    "duration": 150,
    "start_time": "2022-07-19T16:56:49.348Z"
   },
   {
    "duration": 151,
    "start_time": "2022-07-19T16:57:11.018Z"
   },
   {
    "duration": 258,
    "start_time": "2022-07-19T16:57:22.534Z"
   },
   {
    "duration": 150,
    "start_time": "2022-07-19T16:57:34.887Z"
   },
   {
    "duration": 178,
    "start_time": "2022-07-19T16:57:43.833Z"
   },
   {
    "duration": 16,
    "start_time": "2022-07-19T16:58:08.654Z"
   },
   {
    "duration": 9,
    "start_time": "2022-07-19T17:14:55.940Z"
   },
   {
    "duration": 10,
    "start_time": "2022-07-19T17:15:10.326Z"
   },
   {
    "duration": 9,
    "start_time": "2022-07-19T17:17:18.485Z"
   },
   {
    "duration": 12,
    "start_time": "2022-07-19T17:18:21.965Z"
   },
   {
    "duration": 8,
    "start_time": "2022-07-19T17:19:10.775Z"
   },
   {
    "duration": 8,
    "start_time": "2022-07-19T17:19:21.291Z"
   },
   {
    "duration": 8,
    "start_time": "2022-07-19T17:19:29.863Z"
   },
   {
    "duration": 8,
    "start_time": "2022-07-19T17:19:35.456Z"
   },
   {
    "duration": 12,
    "start_time": "2022-07-19T17:26:21.101Z"
   },
   {
    "duration": 5,
    "start_time": "2022-07-19T17:27:15.279Z"
   },
   {
    "duration": 44,
    "start_time": "2022-07-19T17:27:15.914Z"
   },
   {
    "duration": 14,
    "start_time": "2022-07-19T17:27:16.276Z"
   },
   {
    "duration": 13,
    "start_time": "2022-07-19T17:27:16.526Z"
   },
   {
    "duration": 14,
    "start_time": "2022-07-19T17:27:17.064Z"
   },
   {
    "duration": 10,
    "start_time": "2022-07-19T17:27:17.337Z"
   },
   {
    "duration": 30771,
    "start_time": "2022-07-19T17:27:17.840Z"
   },
   {
    "duration": 12,
    "start_time": "2022-07-19T17:27:48.613Z"
   },
   {
    "duration": 15,
    "start_time": "2022-07-19T17:27:48.627Z"
   },
   {
    "duration": 434,
    "start_time": "2022-07-19T17:27:48.644Z"
   },
   {
    "duration": 1135,
    "start_time": "2022-07-19T17:27:49.079Z"
   },
   {
    "duration": 17,
    "start_time": "2022-07-19T17:27:50.216Z"
   },
   {
    "duration": 322,
    "start_time": "2022-07-19T17:27:50.235Z"
   },
   {
    "duration": 220,
    "start_time": "2022-07-19T17:27:50.559Z"
   },
   {
    "duration": 278,
    "start_time": "2022-07-19T17:27:50.781Z"
   },
   {
    "duration": 2738,
    "start_time": "2022-07-19T17:27:51.062Z"
   },
   {
    "duration": 261,
    "start_time": "2022-07-19T17:27:53.801Z"
   },
   {
    "duration": 235,
    "start_time": "2022-07-19T17:27:54.064Z"
   },
   {
    "duration": 321,
    "start_time": "2022-07-19T17:27:54.301Z"
   },
   {
    "duration": 18,
    "start_time": "2022-07-19T17:27:54.624Z"
   },
   {
    "duration": 2,
    "start_time": "2022-07-19T17:27:54.644Z"
   },
   {
    "duration": 21,
    "start_time": "2022-07-19T17:27:54.648Z"
   },
   {
    "duration": 31,
    "start_time": "2022-07-19T17:27:54.671Z"
   },
   {
    "duration": 8,
    "start_time": "2022-07-19T17:31:25.056Z"
   },
   {
    "duration": 7,
    "start_time": "2022-07-19T17:31:28.522Z"
   },
   {
    "duration": 4,
    "start_time": "2022-07-19T17:35:46.493Z"
   },
   {
    "duration": 4,
    "start_time": "2022-07-19T17:35:52.054Z"
   },
   {
    "duration": 8,
    "start_time": "2022-07-19T17:36:23.768Z"
   },
   {
    "duration": 7,
    "start_time": "2022-07-19T17:36:30.743Z"
   },
   {
    "duration": 8,
    "start_time": "2022-07-19T17:57:34.596Z"
   },
   {
    "duration": 5,
    "start_time": "2022-07-19T17:57:45.901Z"
   },
   {
    "duration": 4,
    "start_time": "2022-07-19T17:58:18.261Z"
   },
   {
    "duration": 4,
    "start_time": "2022-07-19T17:58:29.844Z"
   },
   {
    "duration": 1384,
    "start_time": "2022-07-20T08:02:32.685Z"
   },
   {
    "duration": 105,
    "start_time": "2022-07-20T08:02:35.441Z"
   },
   {
    "duration": 28,
    "start_time": "2022-07-20T08:02:36.570Z"
   },
   {
    "duration": 15,
    "start_time": "2022-07-20T08:02:37.679Z"
   },
   {
    "duration": 15,
    "start_time": "2022-07-20T08:02:43.237Z"
   },
   {
    "duration": 11,
    "start_time": "2022-07-20T08:02:46.788Z"
   },
   {
    "duration": 31724,
    "start_time": "2022-07-20T08:03:28.808Z"
   },
   {
    "duration": 13,
    "start_time": "2022-07-20T08:04:54.045Z"
   },
   {
    "duration": 21,
    "start_time": "2022-07-20T08:04:59.156Z"
   },
   {
    "duration": 27,
    "start_time": "2022-07-20T08:05:01.581Z"
   },
   {
    "duration": 24,
    "start_time": "2022-07-20T08:06:19.763Z"
   },
   {
    "duration": 21,
    "start_time": "2022-07-20T08:06:20.579Z"
   },
   {
    "duration": 498,
    "start_time": "2022-07-20T08:06:28.552Z"
   },
   {
    "duration": 569,
    "start_time": "2022-07-20T08:06:34.772Z"
   },
   {
    "duration": 465,
    "start_time": "2022-07-20T08:06:49.380Z"
   },
   {
    "duration": 4,
    "start_time": "2022-07-20T08:07:05.098Z"
   },
   {
    "duration": 60,
    "start_time": "2022-07-20T08:07:06.110Z"
   },
   {
    "duration": 20,
    "start_time": "2022-07-20T08:07:06.886Z"
   },
   {
    "duration": 21,
    "start_time": "2022-07-20T08:07:08.386Z"
   },
   {
    "duration": 21,
    "start_time": "2022-07-20T08:07:10.161Z"
   },
   {
    "duration": 9,
    "start_time": "2022-07-20T08:07:10.983Z"
   },
   {
    "duration": 31828,
    "start_time": "2022-07-20T08:07:13.108Z"
   },
   {
    "duration": 13,
    "start_time": "2022-07-20T08:08:17.144Z"
   },
   {
    "duration": 17,
    "start_time": "2022-07-20T08:08:18.680Z"
   },
   {
    "duration": 489,
    "start_time": "2022-07-20T08:08:20.500Z"
   },
   {
    "duration": 1426,
    "start_time": "2022-07-20T08:08:22.511Z"
   },
   {
    "duration": 18,
    "start_time": "2022-07-20T08:15:33.706Z"
   },
   {
    "duration": 255,
    "start_time": "2022-07-20T08:15:54.159Z"
   },
   {
    "duration": 249,
    "start_time": "2022-07-20T08:15:55.796Z"
   },
   {
    "duration": 314,
    "start_time": "2022-07-20T08:16:00.860Z"
   },
   {
    "duration": 2979,
    "start_time": "2022-07-20T08:18:41.528Z"
   },
   {
    "duration": 353,
    "start_time": "2022-07-20T08:25:55.105Z"
   },
   {
    "duration": 71,
    "start_time": "2022-07-20T08:26:14.662Z"
   },
   {
    "duration": 2891,
    "start_time": "2022-07-20T08:26:19.368Z"
   },
   {
    "duration": 2871,
    "start_time": "2022-07-20T08:26:35.499Z"
   },
   {
    "duration": 2766,
    "start_time": "2022-07-20T08:26:57.452Z"
   },
   {
    "duration": 2878,
    "start_time": "2022-07-20T08:27:03.840Z"
   },
   {
    "duration": 2860,
    "start_time": "2022-07-20T08:27:25.313Z"
   },
   {
    "duration": 270,
    "start_time": "2022-07-20T08:44:20.251Z"
   },
   {
    "duration": 256,
    "start_time": "2022-07-20T08:44:21.830Z"
   },
   {
    "duration": 357,
    "start_time": "2022-07-20T08:44:23.455Z"
   },
   {
    "duration": 17,
    "start_time": "2022-07-20T08:53:08.347Z"
   },
   {
    "duration": 2,
    "start_time": "2022-07-20T08:53:09.703Z"
   },
   {
    "duration": 24,
    "start_time": "2022-07-20T08:53:11.884Z"
   },
   {
    "duration": 10,
    "start_time": "2022-07-20T08:53:14.334Z"
   },
   {
    "duration": 11,
    "start_time": "2022-07-20T08:53:15.270Z"
   },
   {
    "duration": 26,
    "start_time": "2022-07-20T10:00:14.796Z"
   },
   {
    "duration": 59,
    "start_time": "2022-07-20T10:06:09.024Z"
   },
   {
    "duration": 17,
    "start_time": "2022-07-20T10:06:32.334Z"
   },
   {
    "duration": 306,
    "start_time": "2022-07-20T10:06:37.863Z"
   },
   {
    "duration": 262,
    "start_time": "2022-07-20T10:06:43.104Z"
   },
   {
    "duration": 388,
    "start_time": "2022-07-20T10:06:49.238Z"
   },
   {
    "duration": 2954,
    "start_time": "2022-07-20T10:07:11.938Z"
   },
   {
    "duration": 231,
    "start_time": "2022-07-20T10:07:37.971Z"
   },
   {
    "duration": 232,
    "start_time": "2022-07-20T10:07:44.989Z"
   },
   {
    "duration": 412,
    "start_time": "2022-07-20T10:07:46.272Z"
   },
   {
    "duration": 25,
    "start_time": "2022-07-20T10:07:56.789Z"
   },
   {
    "duration": 25,
    "start_time": "2022-07-20T10:08:04.671Z"
   },
   {
    "duration": 831,
    "start_time": "2022-07-20T10:08:18.032Z"
   },
   {
    "duration": 4,
    "start_time": "2022-07-20T10:09:03.811Z"
   },
   {
    "duration": 289,
    "start_time": "2022-07-20T10:09:19.570Z"
   },
   {
    "duration": 57,
    "start_time": "2022-07-20T10:09:40.176Z"
   },
   {
    "duration": 9,
    "start_time": "2022-07-20T10:09:58.372Z"
   },
   {
    "duration": 18,
    "start_time": "2022-07-20T10:10:30.740Z"
   },
   {
    "duration": 209,
    "start_time": "2022-07-20T10:10:36.418Z"
   },
   {
    "duration": 211,
    "start_time": "2022-07-20T10:10:36.901Z"
   },
   {
    "duration": 283,
    "start_time": "2022-07-20T10:10:37.259Z"
   },
   {
    "duration": 2855,
    "start_time": "2022-07-20T10:10:37.922Z"
   },
   {
    "duration": 244,
    "start_time": "2022-07-20T10:10:40.779Z"
   },
   {
    "duration": 236,
    "start_time": "2022-07-20T10:10:41.024Z"
   },
   {
    "duration": 319,
    "start_time": "2022-07-20T10:10:41.264Z"
   },
   {
    "duration": 921,
    "start_time": "2022-07-20T10:10:41.585Z"
   },
   {
    "duration": 2,
    "start_time": "2022-07-20T10:10:42.508Z"
   },
   {
    "duration": 817,
    "start_time": "2022-07-20T10:12:37.579Z"
   },
   {
    "duration": 862,
    "start_time": "2022-07-20T10:13:00.131Z"
   },
   {
    "duration": 780,
    "start_time": "2022-07-20T10:13:34.023Z"
   },
   {
    "duration": 3,
    "start_time": "2022-07-20T10:14:06.285Z"
   },
   {
    "duration": 46,
    "start_time": "2022-07-20T10:14:06.881Z"
   },
   {
    "duration": 13,
    "start_time": "2022-07-20T10:14:07.430Z"
   },
   {
    "duration": 15,
    "start_time": "2022-07-20T10:14:07.983Z"
   },
   {
    "duration": 15,
    "start_time": "2022-07-20T10:14:09.106Z"
   },
   {
    "duration": 10,
    "start_time": "2022-07-20T10:14:09.679Z"
   },
   {
    "duration": 29136,
    "start_time": "2022-07-20T10:14:10.796Z"
   },
   {
    "duration": 12,
    "start_time": "2022-07-20T10:14:39.934Z"
   },
   {
    "duration": 16,
    "start_time": "2022-07-20T10:17:48.032Z"
   },
   {
    "duration": 417,
    "start_time": "2022-07-20T10:17:48.898Z"
   },
   {
    "duration": 1223,
    "start_time": "2022-07-20T10:17:49.937Z"
   },
   {
    "duration": 17,
    "start_time": "2022-07-20T10:17:51.535Z"
   },
   {
    "duration": 225,
    "start_time": "2022-07-20T10:17:52.195Z"
   },
   {
    "duration": 212,
    "start_time": "2022-07-20T10:17:52.987Z"
   },
   {
    "duration": 388,
    "start_time": "2022-07-20T10:17:53.704Z"
   },
   {
    "duration": 2686,
    "start_time": "2022-07-20T10:17:55.039Z"
   },
   {
    "duration": 238,
    "start_time": "2022-07-20T10:17:57.727Z"
   },
   {
    "duration": 229,
    "start_time": "2022-07-20T10:17:59.098Z"
   },
   {
    "duration": 420,
    "start_time": "2022-07-20T10:18:01.287Z"
   },
   {
    "duration": 801,
    "start_time": "2022-07-20T10:18:15.639Z"
   },
   {
    "duration": 561,
    "start_time": "2022-07-20T10:18:59.284Z"
   },
   {
    "duration": 571,
    "start_time": "2022-07-20T10:19:10.731Z"
   },
   {
    "duration": 530,
    "start_time": "2022-07-20T10:20:05.909Z"
   },
   {
    "duration": 699,
    "start_time": "2022-07-20T10:21:22.165Z"
   },
   {
    "duration": 528,
    "start_time": "2022-07-20T10:21:51.379Z"
   },
   {
    "duration": 563,
    "start_time": "2022-07-20T10:22:19.269Z"
   },
   {
    "duration": 533,
    "start_time": "2022-07-20T10:22:33.711Z"
   },
   {
    "duration": 774,
    "start_time": "2022-07-20T10:26:21.566Z"
   },
   {
    "duration": 365,
    "start_time": "2022-07-20T10:27:08.513Z"
   },
   {
    "duration": 455,
    "start_time": "2022-07-20T10:27:26.829Z"
   },
   {
    "duration": 338,
    "start_time": "2022-07-20T10:27:53.707Z"
   },
   {
    "duration": 3,
    "start_time": "2022-07-20T10:27:54.628Z"
   },
   {
    "duration": 355,
    "start_time": "2022-07-20T10:28:26.501Z"
   },
   {
    "duration": 746,
    "start_time": "2022-07-20T10:28:58.344Z"
   },
   {
    "duration": 972,
    "start_time": "2022-07-20T10:29:32.506Z"
   },
   {
    "duration": 867,
    "start_time": "2022-07-20T10:29:43.055Z"
   },
   {
    "duration": 830,
    "start_time": "2022-07-20T10:29:58.692Z"
   },
   {
    "duration": 803,
    "start_time": "2022-07-20T10:30:38.603Z"
   },
   {
    "duration": 739,
    "start_time": "2022-07-20T10:33:05.965Z"
   },
   {
    "duration": 346,
    "start_time": "2022-07-20T10:34:22.766Z"
   },
   {
    "duration": 355,
    "start_time": "2022-07-20T10:35:33.211Z"
   },
   {
    "duration": 362,
    "start_time": "2022-07-20T10:35:38.867Z"
   },
   {
    "duration": 858,
    "start_time": "2022-07-20T10:35:51.205Z"
   },
   {
    "duration": 766,
    "start_time": "2022-07-20T10:37:48.395Z"
   },
   {
    "duration": 597,
    "start_time": "2022-07-20T10:38:11.284Z"
   },
   {
    "duration": 577,
    "start_time": "2022-07-20T10:38:28.406Z"
   },
   {
    "duration": 554,
    "start_time": "2022-07-20T10:38:56.191Z"
   },
   {
    "duration": 903,
    "start_time": "2022-07-20T10:39:03.919Z"
   },
   {
    "duration": 553,
    "start_time": "2022-07-20T10:44:34.171Z"
   },
   {
    "duration": 600,
    "start_time": "2022-07-20T10:45:00.718Z"
   },
   {
    "duration": 4,
    "start_time": "2022-07-20T10:47:09.268Z"
   },
   {
    "duration": 49,
    "start_time": "2022-07-20T10:47:09.528Z"
   },
   {
    "duration": 14,
    "start_time": "2022-07-20T10:47:09.869Z"
   },
   {
    "duration": 23,
    "start_time": "2022-07-20T10:47:10.159Z"
   },
   {
    "duration": 15,
    "start_time": "2022-07-20T10:47:10.754Z"
   },
   {
    "duration": 11,
    "start_time": "2022-07-20T10:47:11.135Z"
   },
   {
    "duration": 31537,
    "start_time": "2022-07-20T10:47:12.428Z"
   },
   {
    "duration": 21,
    "start_time": "2022-07-20T10:47:43.968Z"
   },
   {
    "duration": 31,
    "start_time": "2022-07-20T10:47:43.991Z"
   },
   {
    "duration": 478,
    "start_time": "2022-07-20T10:47:44.026Z"
   },
   {
    "duration": 1285,
    "start_time": "2022-07-20T10:47:44.506Z"
   },
   {
    "duration": 18,
    "start_time": "2022-07-20T10:47:45.793Z"
   },
   {
    "duration": 254,
    "start_time": "2022-07-20T10:47:45.812Z"
   },
   {
    "duration": 233,
    "start_time": "2022-07-20T10:47:46.068Z"
   },
   {
    "duration": 307,
    "start_time": "2022-07-20T10:47:46.303Z"
   },
   {
    "duration": 2993,
    "start_time": "2022-07-20T10:52:26.234Z"
   },
   {
    "duration": 268,
    "start_time": "2022-07-20T10:52:32.426Z"
   },
   {
    "duration": 237,
    "start_time": "2022-07-20T10:52:34.479Z"
   },
   {
    "duration": 310,
    "start_time": "2022-07-20T10:52:36.460Z"
   },
   {
    "duration": 787,
    "start_time": "2022-07-20T10:52:44.660Z"
   },
   {
    "duration": 572,
    "start_time": "2022-07-20T10:52:48.213Z"
   },
   {
    "duration": 25,
    "start_time": "2022-07-20T10:52:52.612Z"
   },
   {
    "duration": 8,
    "start_time": "2022-07-20T10:52:53.589Z"
   },
   {
    "duration": 8,
    "start_time": "2022-07-20T10:52:53.808Z"
   },
   {
    "duration": 48,
    "start_time": "2022-07-20T11:51:09.567Z"
   },
   {
    "duration": 69,
    "start_time": "2022-07-20T11:53:26.279Z"
   },
   {
    "duration": 25,
    "start_time": "2022-07-20T11:53:33.235Z"
   },
   {
    "duration": 930,
    "start_time": "2022-07-20T11:53:45.438Z"
   },
   {
    "duration": 648,
    "start_time": "2022-07-20T11:54:25.944Z"
   },
   {
    "duration": 618,
    "start_time": "2022-07-20T11:54:44.958Z"
   },
   {
    "duration": 919,
    "start_time": "2022-07-20T12:01:30.413Z"
   },
   {
    "duration": 1313,
    "start_time": "2022-07-20T20:27:53.357Z"
   },
   {
    "duration": 94,
    "start_time": "2022-07-20T20:27:54.672Z"
   },
   {
    "duration": 18,
    "start_time": "2022-07-20T20:27:54.964Z"
   },
   {
    "duration": 16,
    "start_time": "2022-07-20T20:27:55.677Z"
   },
   {
    "duration": 19,
    "start_time": "2022-07-20T20:27:57.037Z"
   },
   {
    "duration": 11,
    "start_time": "2022-07-20T20:27:57.741Z"
   },
   {
    "duration": 28666,
    "start_time": "2022-07-20T20:27:59.043Z"
   },
   {
    "duration": 14,
    "start_time": "2022-07-20T20:28:27.711Z"
   },
   {
    "duration": 17,
    "start_time": "2022-07-20T20:28:27.728Z"
   },
   {
    "duration": 422,
    "start_time": "2022-07-20T20:28:32.076Z"
   },
   {
    "duration": 1174,
    "start_time": "2022-07-20T20:28:33.465Z"
   },
   {
    "duration": 26,
    "start_time": "2022-07-20T20:28:35.414Z"
   },
   {
    "duration": 227,
    "start_time": "2022-07-20T20:28:36.723Z"
   },
   {
    "duration": 301,
    "start_time": "2022-07-20T20:28:38.177Z"
   },
   {
    "duration": 290,
    "start_time": "2022-07-20T20:28:39.656Z"
   },
   {
    "duration": 2872,
    "start_time": "2022-07-20T20:28:42.538Z"
   },
   {
    "duration": 326,
    "start_time": "2022-07-20T20:28:46.026Z"
   },
   {
    "duration": 231,
    "start_time": "2022-07-20T20:28:46.917Z"
   },
   {
    "duration": 348,
    "start_time": "2022-07-20T20:28:49.112Z"
   },
   {
    "duration": 48,
    "start_time": "2022-07-20T20:30:05.119Z"
   },
   {
    "duration": 157,
    "start_time": "2022-07-20T20:31:02.942Z"
   },
   {
    "duration": 422,
    "start_time": "2022-07-20T20:31:17.099Z"
   },
   {
    "duration": 369,
    "start_time": "2022-07-20T20:32:47.427Z"
   },
   {
    "duration": 392,
    "start_time": "2022-07-20T20:32:55.941Z"
   },
   {
    "duration": 19,
    "start_time": "2022-07-20T20:32:57.459Z"
   },
   {
    "duration": 7,
    "start_time": "2022-07-20T20:32:59.111Z"
   },
   {
    "duration": 8,
    "start_time": "2022-07-20T20:32:59.713Z"
   },
   {
    "duration": 1137,
    "start_time": "2022-07-20T20:52:26.240Z"
   },
   {
    "duration": 54,
    "start_time": "2022-07-20T20:52:27.379Z"
   },
   {
    "duration": 18,
    "start_time": "2022-07-20T20:52:27.435Z"
   },
   {
    "duration": 22,
    "start_time": "2022-07-20T20:52:27.455Z"
   },
   {
    "duration": 21,
    "start_time": "2022-07-20T20:52:27.480Z"
   },
   {
    "duration": 17,
    "start_time": "2022-07-20T20:52:27.502Z"
   },
   {
    "duration": 28471,
    "start_time": "2022-07-20T20:52:27.521Z"
   },
   {
    "duration": 13,
    "start_time": "2022-07-20T20:52:55.993Z"
   },
   {
    "duration": 18,
    "start_time": "2022-07-20T20:52:56.007Z"
   },
   {
    "duration": 467,
    "start_time": "2022-07-20T20:52:56.041Z"
   },
   {
    "duration": 1238,
    "start_time": "2022-07-20T20:52:56.510Z"
   },
   {
    "duration": 18,
    "start_time": "2022-07-20T20:52:57.750Z"
   },
   {
    "duration": 282,
    "start_time": "2022-07-20T20:52:57.770Z"
   },
   {
    "duration": 347,
    "start_time": "2022-07-20T20:52:58.055Z"
   },
   {
    "duration": 305,
    "start_time": "2022-07-20T20:52:58.404Z"
   },
   {
    "duration": 3071,
    "start_time": "2022-07-20T20:52:58.711Z"
   },
   {
    "duration": 362,
    "start_time": "2022-07-20T20:53:01.784Z"
   },
   {
    "duration": 284,
    "start_time": "2022-07-20T20:53:02.148Z"
   },
   {
    "duration": 356,
    "start_time": "2022-07-20T20:53:02.434Z"
   },
   {
    "duration": 426,
    "start_time": "2022-07-20T20:53:02.792Z"
   },
   {
    "duration": 482,
    "start_time": "2022-07-20T20:53:03.219Z"
   },
   {
    "duration": 37,
    "start_time": "2022-07-20T20:53:03.703Z"
   },
   {
    "duration": 8,
    "start_time": "2022-07-20T20:53:03.742Z"
   },
   {
    "duration": 8,
    "start_time": "2022-07-20T20:53:03.753Z"
   },
   {
    "duration": 21,
    "start_time": "2022-07-20T21:01:58.055Z"
   },
   {
    "duration": 174,
    "start_time": "2022-07-20T21:03:21.661Z"
   },
   {
    "duration": 40,
    "start_time": "2022-07-20T21:03:44.037Z"
   },
   {
    "duration": 1256,
    "start_time": "2022-07-20T21:03:55.065Z"
   },
   {
    "duration": 57,
    "start_time": "2022-07-20T21:03:56.323Z"
   },
   {
    "duration": 19,
    "start_time": "2022-07-20T21:03:56.382Z"
   },
   {
    "duration": 15,
    "start_time": "2022-07-20T21:03:56.402Z"
   },
   {
    "duration": 15,
    "start_time": "2022-07-20T21:03:56.419Z"
   },
   {
    "duration": 16,
    "start_time": "2022-07-20T21:03:56.436Z"
   },
   {
    "duration": 32250,
    "start_time": "2022-07-20T21:03:56.454Z"
   },
   {
    "duration": 21,
    "start_time": "2022-07-20T21:04:28.705Z"
   },
   {
    "duration": 14,
    "start_time": "2022-07-20T21:04:28.740Z"
   },
   {
    "duration": 22,
    "start_time": "2022-07-20T21:04:28.755Z"
   },
   {
    "duration": 66,
    "start_time": "2022-07-20T21:04:28.779Z"
   },
   {
    "duration": 514,
    "start_time": "2022-07-20T21:04:28.847Z"
   },
   {
    "duration": 1329,
    "start_time": "2022-07-20T21:04:29.363Z"
   },
   {
    "duration": 22,
    "start_time": "2022-07-20T21:04:30.695Z"
   },
   {
    "duration": 280,
    "start_time": "2022-07-20T21:04:30.719Z"
   },
   {
    "duration": 354,
    "start_time": "2022-07-20T21:04:31.002Z"
   },
   {
    "duration": 330,
    "start_time": "2022-07-20T21:04:31.357Z"
   },
   {
    "duration": 3129,
    "start_time": "2022-07-20T21:04:31.689Z"
   },
   {
    "duration": 402,
    "start_time": "2022-07-20T21:04:34.820Z"
   },
   {
    "duration": 293,
    "start_time": "2022-07-20T21:04:35.224Z"
   },
   {
    "duration": 383,
    "start_time": "2022-07-20T21:04:35.519Z"
   },
   {
    "duration": 468,
    "start_time": "2022-07-20T21:04:35.904Z"
   },
   {
    "duration": 464,
    "start_time": "2022-07-20T21:04:36.374Z"
   },
   {
    "duration": 20,
    "start_time": "2022-07-20T21:04:36.840Z"
   },
   {
    "duration": 9,
    "start_time": "2022-07-20T21:04:36.861Z"
   },
   {
    "duration": 11,
    "start_time": "2022-07-20T21:04:36.872Z"
   },
   {
    "duration": 1315,
    "start_time": "2022-07-20T21:20:21.248Z"
   },
   {
    "duration": 1278,
    "start_time": "2022-07-20T21:20:37.834Z"
   },
   {
    "duration": 1354,
    "start_time": "2022-07-20T21:20:52.477Z"
   },
   {
    "duration": 1246,
    "start_time": "2022-07-20T21:22:20.251Z"
   },
   {
    "duration": 1374,
    "start_time": "2022-07-20T21:22:38.139Z"
   },
   {
    "duration": 1260,
    "start_time": "2022-07-20T21:23:00.579Z"
   },
   {
    "duration": 1342,
    "start_time": "2022-07-20T21:23:56.652Z"
   },
   {
    "duration": 1397,
    "start_time": "2022-07-20T21:24:16.673Z"
   },
   {
    "duration": 1316,
    "start_time": "2022-07-20T21:25:00.601Z"
   },
   {
    "duration": 1398,
    "start_time": "2022-07-24T13:00:22.242Z"
   },
   {
    "duration": 100,
    "start_time": "2022-07-24T13:00:23.642Z"
   },
   {
    "duration": 19,
    "start_time": "2022-07-24T13:00:23.744Z"
   },
   {
    "duration": 18,
    "start_time": "2022-07-24T13:00:23.958Z"
   },
   {
    "duration": 16,
    "start_time": "2022-07-24T13:00:25.135Z"
   },
   {
    "duration": 11,
    "start_time": "2022-07-24T13:00:26.484Z"
   },
   {
    "duration": 31307,
    "start_time": "2022-07-24T13:00:30.371Z"
   },
   {
    "duration": 31455,
    "start_time": "2022-07-24T13:01:21.634Z"
   },
   {
    "duration": 34356,
    "start_time": "2022-07-24T13:05:33.933Z"
   },
   {
    "duration": 25,
    "start_time": "2022-07-24T13:08:05.036Z"
   },
   {
    "duration": 23,
    "start_time": "2022-07-24T13:12:32.334Z"
   },
   {
    "duration": 31,
    "start_time": "2022-07-24T13:12:34.785Z"
   },
   {
    "duration": 15,
    "start_time": "2022-07-24T13:12:49.998Z"
   },
   {
    "duration": 18,
    "start_time": "2022-07-24T13:12:52.869Z"
   },
   {
    "duration": 26,
    "start_time": "2022-07-24T13:17:09.486Z"
   },
   {
    "duration": 23,
    "start_time": "2022-07-24T13:17:13.266Z"
   },
   {
    "duration": 4,
    "start_time": "2022-07-24T13:17:20.831Z"
   },
   {
    "duration": 53,
    "start_time": "2022-07-24T13:17:21.269Z"
   },
   {
    "duration": 17,
    "start_time": "2022-07-24T13:17:21.642Z"
   },
   {
    "duration": 24,
    "start_time": "2022-07-24T13:17:21.893Z"
   },
   {
    "duration": 24,
    "start_time": "2022-07-24T13:17:22.607Z"
   },
   {
    "duration": 16,
    "start_time": "2022-07-24T13:17:23.611Z"
   },
   {
    "duration": 21,
    "start_time": "2022-07-24T13:17:26.187Z"
   },
   {
    "duration": 858,
    "start_time": "2022-07-24T13:17:53.881Z"
   },
   {
    "duration": 19,
    "start_time": "2022-07-24T13:18:06.396Z"
   },
   {
    "duration": 34,
    "start_time": "2022-07-24T13:18:12.092Z"
   },
   {
    "duration": 41,
    "start_time": "2022-07-24T13:28:24.964Z"
   },
   {
    "duration": 53,
    "start_time": "2022-07-24T13:34:20.946Z"
   },
   {
    "duration": 4,
    "start_time": "2022-07-24T13:36:52.202Z"
   },
   {
    "duration": 69,
    "start_time": "2022-07-24T13:36:52.685Z"
   },
   {
    "duration": 17,
    "start_time": "2022-07-24T13:36:53.226Z"
   },
   {
    "duration": 14,
    "start_time": "2022-07-24T13:36:53.901Z"
   },
   {
    "duration": 15,
    "start_time": "2022-07-24T13:36:55.244Z"
   },
   {
    "duration": 11,
    "start_time": "2022-07-24T13:37:03.057Z"
   },
   {
    "duration": 23,
    "start_time": "2022-07-24T13:37:41.483Z"
   },
   {
    "duration": 21,
    "start_time": "2022-07-24T13:37:54.027Z"
   },
   {
    "duration": 14,
    "start_time": "2022-07-24T13:37:54.682Z"
   },
   {
    "duration": 18,
    "start_time": "2022-07-24T13:37:58.700Z"
   },
   {
    "duration": 42,
    "start_time": "2022-07-24T13:38:00.131Z"
   },
   {
    "duration": 479,
    "start_time": "2022-07-24T13:40:15.170Z"
   },
   {
    "duration": 458,
    "start_time": "2022-07-24T13:44:13.841Z"
   },
   {
    "duration": 4,
    "start_time": "2022-07-24T13:49:53.752Z"
   },
   {
    "duration": 60,
    "start_time": "2022-07-24T13:49:54.248Z"
   },
   {
    "duration": 16,
    "start_time": "2022-07-24T13:49:54.776Z"
   },
   {
    "duration": 16,
    "start_time": "2022-07-24T13:49:57.282Z"
   },
   {
    "duration": 16,
    "start_time": "2022-07-24T13:49:58.738Z"
   },
   {
    "duration": 12,
    "start_time": "2022-07-24T13:50:02.156Z"
   },
   {
    "duration": 22,
    "start_time": "2022-07-24T13:50:09.401Z"
   },
   {
    "duration": 22,
    "start_time": "2022-07-24T13:50:12.371Z"
   },
   {
    "duration": 16,
    "start_time": "2022-07-24T13:50:13.128Z"
   },
   {
    "duration": 20,
    "start_time": "2022-07-24T13:50:15.768Z"
   },
   {
    "duration": 39,
    "start_time": "2022-07-24T13:50:18.380Z"
   },
   {
    "duration": 5,
    "start_time": "2022-07-24T13:56:39.299Z"
   },
   {
    "duration": 53,
    "start_time": "2022-07-24T13:56:39.538Z"
   },
   {
    "duration": 20,
    "start_time": "2022-07-24T13:56:39.841Z"
   },
   {
    "duration": 14,
    "start_time": "2022-07-24T13:56:40.154Z"
   },
   {
    "duration": 15,
    "start_time": "2022-07-24T13:56:40.807Z"
   },
   {
    "duration": 20,
    "start_time": "2022-07-24T14:00:18.928Z"
   },
   {
    "duration": 12,
    "start_time": "2022-07-24T14:00:46.586Z"
   },
   {
    "duration": 25,
    "start_time": "2022-07-24T14:01:12.536Z"
   },
   {
    "duration": 27,
    "start_time": "2022-07-24T14:01:22.910Z"
   },
   {
    "duration": 15,
    "start_time": "2022-07-24T14:01:23.647Z"
   },
   {
    "duration": 47,
    "start_time": "2022-07-24T14:01:54.784Z"
   },
   {
    "duration": 482,
    "start_time": "2022-07-24T14:03:24.993Z"
   },
   {
    "duration": 19,
    "start_time": "2022-07-24T14:07:16.218Z"
   },
   {
    "duration": 17,
    "start_time": "2022-07-24T14:07:41.750Z"
   },
   {
    "duration": 19,
    "start_time": "2022-07-24T14:08:31.346Z"
   },
   {
    "duration": 17,
    "start_time": "2022-07-24T14:08:37.383Z"
   },
   {
    "duration": 14,
    "start_time": "2022-07-24T14:08:53.239Z"
   },
   {
    "duration": 4,
    "start_time": "2022-07-24T14:09:07.461Z"
   },
   {
    "duration": 51,
    "start_time": "2022-07-24T14:09:07.810Z"
   },
   {
    "duration": 16,
    "start_time": "2022-07-24T14:09:08.151Z"
   },
   {
    "duration": 16,
    "start_time": "2022-07-24T14:09:08.423Z"
   },
   {
    "duration": 16,
    "start_time": "2022-07-24T14:09:09.654Z"
   },
   {
    "duration": 11,
    "start_time": "2022-07-24T14:09:13.548Z"
   },
   {
    "duration": 21,
    "start_time": "2022-07-24T14:09:20.347Z"
   },
   {
    "duration": 13,
    "start_time": "2022-07-24T14:11:39.769Z"
   },
   {
    "duration": 13,
    "start_time": "2022-07-24T14:12:04.841Z"
   },
   {
    "duration": 17,
    "start_time": "2022-07-24T14:12:26.809Z"
   },
   {
    "duration": 45,
    "start_time": "2022-07-24T14:12:28.216Z"
   },
   {
    "duration": 508,
    "start_time": "2022-07-24T14:12:30.766Z"
   },
   {
    "duration": 1372,
    "start_time": "2022-07-24T14:13:02.937Z"
   },
   {
    "duration": 1223,
    "start_time": "2022-07-24T14:13:50.642Z"
   },
   {
    "duration": 1376,
    "start_time": "2022-07-24T14:14:00.578Z"
   },
   {
    "duration": 1384,
    "start_time": "2022-07-24T14:14:12.456Z"
   },
   {
    "duration": 15,
    "start_time": "2022-07-24T14:22:36.364Z"
   },
   {
    "duration": 19,
    "start_time": "2022-07-24T14:22:43.541Z"
   },
   {
    "duration": 272,
    "start_time": "2022-07-24T14:22:45.575Z"
   },
   {
    "duration": 235,
    "start_time": "2022-07-24T14:23:37.084Z"
   },
   {
    "duration": 54,
    "start_time": "2022-07-24T14:23:56.330Z"
   },
   {
    "duration": 620,
    "start_time": "2022-07-24T14:26:20.682Z"
   },
   {
    "duration": 671,
    "start_time": "2022-07-24T14:26:38.679Z"
   },
   {
    "duration": 61,
    "start_time": "2022-07-24T14:31:12.994Z"
   },
   {
    "duration": 3183,
    "start_time": "2022-07-24T14:32:53.809Z"
   },
   {
    "duration": 261,
    "start_time": "2022-07-24T14:32:56.995Z"
   },
   {
    "duration": 3038,
    "start_time": "2022-07-24T14:33:36.509Z"
   },
   {
    "duration": 269,
    "start_time": "2022-07-24T14:34:16.599Z"
   },
   {
    "duration": 256,
    "start_time": "2022-07-24T14:35:02.467Z"
   },
   {
    "duration": 266,
    "start_time": "2022-07-24T14:35:23.324Z"
   },
   {
    "duration": 47,
    "start_time": "2022-07-24T14:38:52.856Z"
   },
   {
    "duration": 96,
    "start_time": "2022-07-24T14:39:14.958Z"
   },
   {
    "duration": 64,
    "start_time": "2022-07-24T14:41:14.063Z"
   },
   {
    "duration": 381,
    "start_time": "2022-07-24T14:41:34.169Z"
   },
   {
    "duration": 27,
    "start_time": "2022-07-24T14:53:23.506Z"
   },
   {
    "duration": 25,
    "start_time": "2022-07-24T14:55:55.555Z"
   },
   {
    "duration": 15,
    "start_time": "2022-07-24T14:58:40.766Z"
   },
   {
    "duration": 20,
    "start_time": "2022-07-24T15:01:27.171Z"
   },
   {
    "duration": 6,
    "start_time": "2022-07-24T15:03:52.603Z"
   },
   {
    "duration": 50,
    "start_time": "2022-07-24T15:03:52.708Z"
   },
   {
    "duration": 16,
    "start_time": "2022-07-24T15:03:52.944Z"
   },
   {
    "duration": 21,
    "start_time": "2022-07-24T15:03:53.043Z"
   },
   {
    "duration": 20,
    "start_time": "2022-07-24T15:03:53.573Z"
   },
   {
    "duration": 10,
    "start_time": "2022-07-24T15:03:53.946Z"
   },
   {
    "duration": 26,
    "start_time": "2022-07-24T15:03:54.419Z"
   },
   {
    "duration": 21,
    "start_time": "2022-07-24T15:03:54.766Z"
   },
   {
    "duration": 16,
    "start_time": "2022-07-24T15:03:55.011Z"
   },
   {
    "duration": 18,
    "start_time": "2022-07-24T15:03:55.376Z"
   },
   {
    "duration": 40,
    "start_time": "2022-07-24T15:03:55.612Z"
   },
   {
    "duration": 458,
    "start_time": "2022-07-24T15:03:56.969Z"
   },
   {
    "duration": 1368,
    "start_time": "2022-07-24T15:03:57.804Z"
   },
   {
    "duration": 17,
    "start_time": "2022-07-24T15:03:59.174Z"
   },
   {
    "duration": 243,
    "start_time": "2022-07-24T15:03:59.508Z"
   },
   {
    "duration": 250,
    "start_time": "2022-07-24T15:04:00.678Z"
   },
   {
    "duration": 322,
    "start_time": "2022-07-24T15:04:01.872Z"
   },
   {
    "duration": 751,
    "start_time": "2022-07-24T15:04:02.419Z"
   },
   {
    "duration": 2989,
    "start_time": "2022-07-24T15:04:05.267Z"
   },
   {
    "duration": 2857,
    "start_time": "2022-07-24T15:04:29.707Z"
   },
   {
    "duration": 271,
    "start_time": "2022-07-24T15:05:15.820Z"
   },
   {
    "duration": 21,
    "start_time": "2022-07-24T15:08:21.848Z"
   },
   {
    "duration": 20,
    "start_time": "2022-07-24T15:24:50.408Z"
   },
   {
    "duration": 16,
    "start_time": "2022-07-24T15:25:14.820Z"
   },
   {
    "duration": 22,
    "start_time": "2022-07-24T15:27:11.525Z"
   },
   {
    "duration": 428,
    "start_time": "2022-07-24T15:27:51.560Z"
   },
   {
    "duration": 438,
    "start_time": "2022-07-24T15:28:55.890Z"
   },
   {
    "duration": 522,
    "start_time": "2022-07-24T15:29:04.805Z"
   },
   {
    "duration": 415,
    "start_time": "2022-07-24T15:29:23.267Z"
   },
   {
    "duration": 730,
    "start_time": "2022-07-24T15:30:22.929Z"
   },
   {
    "duration": 408,
    "start_time": "2022-07-24T15:30:37.925Z"
   },
   {
    "duration": 452,
    "start_time": "2022-07-24T15:38:01.109Z"
   },
   {
    "duration": 20,
    "start_time": "2022-07-24T15:38:30.933Z"
   },
   {
    "duration": 559,
    "start_time": "2022-07-24T15:38:42.451Z"
   },
   {
    "duration": 445,
    "start_time": "2022-07-24T15:39:18.885Z"
   },
   {
    "duration": 396,
    "start_time": "2022-07-24T15:41:21.569Z"
   },
   {
    "duration": 61,
    "start_time": "2022-07-24T15:41:32.446Z"
   },
   {
    "duration": 477,
    "start_time": "2022-07-24T15:41:39.068Z"
   },
   {
    "duration": 447,
    "start_time": "2022-07-24T15:56:39.982Z"
   },
   {
    "duration": 772,
    "start_time": "2022-07-24T15:59:03.414Z"
   },
   {
    "duration": 1027,
    "start_time": "2022-07-24T15:59:19.233Z"
   },
   {
    "duration": 524,
    "start_time": "2022-07-24T15:59:34.314Z"
   },
   {
    "duration": 600,
    "start_time": "2022-07-24T16:00:07.566Z"
   },
   {
    "duration": 81,
    "start_time": "2022-07-24T16:02:26.705Z"
   },
   {
    "duration": 21,
    "start_time": "2022-07-24T16:02:36.088Z"
   },
   {
    "duration": 16,
    "start_time": "2022-07-24T16:08:34.785Z"
   },
   {
    "duration": 482,
    "start_time": "2022-07-24T16:23:28.043Z"
   },
   {
    "duration": 420,
    "start_time": "2022-07-24T16:23:45.872Z"
   },
   {
    "duration": 441,
    "start_time": "2022-07-24T16:23:59.189Z"
   },
   {
    "duration": 19,
    "start_time": "2022-07-24T16:32:27.154Z"
   },
   {
    "duration": 416,
    "start_time": "2022-07-24T16:35:43.722Z"
   },
   {
    "duration": 926,
    "start_time": "2022-07-24T16:37:50.881Z"
   },
   {
    "duration": 463,
    "start_time": "2022-07-24T16:38:07.546Z"
   },
   {
    "duration": 60,
    "start_time": "2022-07-24T16:41:44.074Z"
   },
   {
    "duration": 10,
    "start_time": "2022-07-24T16:42:22.069Z"
   },
   {
    "duration": 21,
    "start_time": "2022-07-24T16:42:44.160Z"
   },
   {
    "duration": 5,
    "start_time": "2022-07-24T17:17:19.551Z"
   },
   {
    "duration": 47,
    "start_time": "2022-07-24T17:17:20.417Z"
   },
   {
    "duration": 15,
    "start_time": "2022-07-24T17:17:21.015Z"
   },
   {
    "duration": 15,
    "start_time": "2022-07-24T17:17:22.054Z"
   },
   {
    "duration": 15,
    "start_time": "2022-07-24T17:17:25.235Z"
   },
   {
    "duration": 13,
    "start_time": "2022-07-24T17:17:49.848Z"
   },
   {
    "duration": 24,
    "start_time": "2022-07-24T17:18:03.145Z"
   },
   {
    "duration": 22,
    "start_time": "2022-07-24T17:18:20.541Z"
   },
   {
    "duration": 14,
    "start_time": "2022-07-24T17:18:23.393Z"
   },
   {
    "duration": 26,
    "start_time": "2022-07-24T17:18:37.741Z"
   },
   {
    "duration": 50,
    "start_time": "2022-07-24T17:18:39.296Z"
   },
   {
    "duration": 485,
    "start_time": "2022-07-24T17:18:59.845Z"
   },
   {
    "duration": 1214,
    "start_time": "2022-07-24T17:19:25.872Z"
   },
   {
    "duration": 549,
    "start_time": "2022-07-24T17:25:47.365Z"
   },
   {
    "duration": 48,
    "start_time": "2022-07-24T17:48:39.458Z"
   },
   {
    "duration": 5,
    "start_time": "2022-07-24T17:55:03.596Z"
   },
   {
    "duration": 48,
    "start_time": "2022-07-24T17:55:04.131Z"
   },
   {
    "duration": 15,
    "start_time": "2022-07-24T17:55:04.716Z"
   },
   {
    "duration": 15,
    "start_time": "2022-07-24T17:55:05.620Z"
   },
   {
    "duration": 16,
    "start_time": "2022-07-24T17:55:08.707Z"
   },
   {
    "duration": 11,
    "start_time": "2022-07-24T17:55:12.115Z"
   },
   {
    "duration": 21,
    "start_time": "2022-07-24T17:55:15.823Z"
   },
   {
    "duration": 22,
    "start_time": "2022-07-24T17:55:20.133Z"
   },
   {
    "duration": 19,
    "start_time": "2022-07-24T17:55:44.175Z"
   },
   {
    "duration": 15,
    "start_time": "2022-07-24T17:55:46.091Z"
   },
   {
    "duration": 21,
    "start_time": "2022-07-24T17:55:48.899Z"
   },
   {
    "duration": 40,
    "start_time": "2022-07-24T17:55:50.467Z"
   },
   {
    "duration": 473,
    "start_time": "2022-07-24T17:56:02.907Z"
   },
   {
    "duration": 1184,
    "start_time": "2022-07-24T17:56:34.700Z"
   },
   {
    "duration": 18,
    "start_time": "2022-07-24T17:56:43.854Z"
   },
   {
    "duration": 246,
    "start_time": "2022-07-24T17:56:45.611Z"
   },
   {
    "duration": 332,
    "start_time": "2022-07-24T17:56:50.076Z"
   },
   {
    "duration": 313,
    "start_time": "2022-07-24T17:56:52.961Z"
   },
   {
    "duration": 652,
    "start_time": "2022-07-24T17:57:10.611Z"
   },
   {
    "duration": 2746,
    "start_time": "2022-07-24T17:57:58.607Z"
   },
   {
    "duration": 268,
    "start_time": "2022-07-24T17:58:08.344Z"
   },
   {
    "duration": 278,
    "start_time": "2022-07-24T17:58:31.509Z"
   },
   {
    "duration": 348,
    "start_time": "2022-07-24T17:58:33.574Z"
   },
   {
    "duration": 327,
    "start_time": "2022-07-24T17:58:38.443Z"
   },
   {
    "duration": 424,
    "start_time": "2022-07-24T17:59:00.376Z"
   },
   {
    "duration": 571,
    "start_time": "2022-07-24T17:59:03.685Z"
   },
   {
    "duration": 15,
    "start_time": "2022-07-24T18:00:45.935Z"
   },
   {
    "duration": 7,
    "start_time": "2022-07-24T18:00:49.902Z"
   },
   {
    "duration": 8,
    "start_time": "2022-07-24T18:00:51.256Z"
   },
   {
    "duration": 1185,
    "start_time": "2022-07-25T16:13:35.936Z"
   },
   {
    "duration": 55,
    "start_time": "2022-07-25T16:13:37.123Z"
   },
   {
    "duration": 17,
    "start_time": "2022-07-25T16:13:37.180Z"
   },
   {
    "duration": 14,
    "start_time": "2022-07-25T16:13:37.198Z"
   },
   {
    "duration": 12,
    "start_time": "2022-07-25T16:13:37.214Z"
   },
   {
    "duration": 14,
    "start_time": "2022-07-25T16:13:37.227Z"
   },
   {
    "duration": 55,
    "start_time": "2022-07-25T16:13:37.243Z"
   },
   {
    "duration": 17,
    "start_time": "2022-07-25T16:13:37.300Z"
   },
   {
    "duration": 19,
    "start_time": "2022-07-25T16:13:37.319Z"
   },
   {
    "duration": 16,
    "start_time": "2022-07-25T16:13:37.339Z"
   },
   {
    "duration": 41,
    "start_time": "2022-07-25T16:13:37.357Z"
   },
   {
    "duration": 455,
    "start_time": "2022-07-25T16:13:37.400Z"
   },
   {
    "duration": 1155,
    "start_time": "2022-07-25T16:13:37.857Z"
   },
   {
    "duration": 18,
    "start_time": "2022-07-25T16:13:39.016Z"
   },
   {
    "duration": 255,
    "start_time": "2022-07-25T16:13:39.035Z"
   },
   {
    "duration": 320,
    "start_time": "2022-07-25T16:13:39.292Z"
   },
   {
    "duration": 296,
    "start_time": "2022-07-25T16:13:39.614Z"
   },
   {
    "duration": 578,
    "start_time": "2022-07-25T16:13:39.912Z"
   },
   {
    "duration": 2574,
    "start_time": "2022-07-25T16:13:40.492Z"
   },
   {
    "duration": 240,
    "start_time": "2022-07-25T16:13:43.075Z"
   },
   {
    "duration": 266,
    "start_time": "2022-07-25T16:13:43.317Z"
   },
   {
    "duration": 338,
    "start_time": "2022-07-25T16:13:43.585Z"
   },
   {
    "duration": 337,
    "start_time": "2022-07-25T16:13:43.925Z"
   },
   {
    "duration": 431,
    "start_time": "2022-07-25T16:13:44.275Z"
   },
   {
    "duration": 539,
    "start_time": "2022-07-25T16:13:44.707Z"
   },
   {
    "duration": 26,
    "start_time": "2022-07-25T16:13:45.247Z"
   },
   {
    "duration": 12,
    "start_time": "2022-07-25T16:13:45.276Z"
   },
   {
    "duration": 38,
    "start_time": "2022-07-25T16:13:45.289Z"
   },
   {
    "duration": 1272,
    "start_time": "2022-07-26T16:44:58.564Z"
   },
   {
    "duration": 103,
    "start_time": "2022-07-26T16:44:59.838Z"
   },
   {
    "duration": 18,
    "start_time": "2022-07-26T16:45:00.049Z"
   },
   {
    "duration": 16,
    "start_time": "2022-07-26T16:45:00.756Z"
   },
   {
    "duration": 14,
    "start_time": "2022-07-26T16:45:02.991Z"
   },
   {
    "duration": 11,
    "start_time": "2022-07-26T16:45:05.631Z"
   },
   {
    "duration": 22,
    "start_time": "2022-07-26T16:45:08.192Z"
   },
   {
    "duration": 20,
    "start_time": "2022-07-26T16:46:27.727Z"
   },
   {
    "duration": 14,
    "start_time": "2022-07-26T16:46:28.890Z"
   },
   {
    "duration": 16,
    "start_time": "2022-07-26T16:46:30.812Z"
   },
   {
    "duration": 38,
    "start_time": "2022-07-26T16:46:32.359Z"
   },
   {
    "duration": 449,
    "start_time": "2022-07-26T16:46:45.108Z"
   },
   {
    "duration": 1153,
    "start_time": "2022-07-26T16:47:08.647Z"
   },
   {
    "duration": 16,
    "start_time": "2022-07-26T16:47:15.957Z"
   },
   {
    "duration": 229,
    "start_time": "2022-07-26T16:47:17.213Z"
   },
   {
    "duration": 320,
    "start_time": "2022-07-26T16:47:18.563Z"
   },
   {
    "duration": 285,
    "start_time": "2022-07-26T16:47:20.741Z"
   },
   {
    "duration": 560,
    "start_time": "2022-07-26T16:47:22.312Z"
   },
   {
    "duration": 257,
    "start_time": "2022-07-26T16:47:29.336Z"
   },
   {
    "duration": 271,
    "start_time": "2022-07-26T16:48:02.270Z"
   },
   {
    "duration": 355,
    "start_time": "2022-07-26T16:48:09.311Z"
   },
   {
    "duration": 271,
    "start_time": "2022-07-26T16:48:17.943Z"
   },
   {
    "duration": 276,
    "start_time": "2022-07-26T16:48:28.445Z"
   },
   {
    "duration": 289,
    "start_time": "2022-07-26T16:48:34.758Z"
   },
   {
    "duration": 264,
    "start_time": "2022-07-26T16:48:44.659Z"
   },
   {
    "duration": 2431,
    "start_time": "2022-07-26T16:49:12.169Z"
   },
   {
    "duration": 228,
    "start_time": "2022-07-26T16:49:15.353Z"
   },
   {
    "duration": 242,
    "start_time": "2022-07-26T16:49:17.447Z"
   },
   {
    "duration": 290,
    "start_time": "2022-07-26T16:49:48.028Z"
   },
   {
    "duration": 298,
    "start_time": "2022-07-26T16:50:02.143Z"
   },
   {
    "duration": 193,
    "start_time": "2022-07-26T16:53:43.305Z"
   },
   {
    "duration": 16,
    "start_time": "2022-07-26T16:58:13.023Z"
   },
   {
    "duration": 413,
    "start_time": "2022-07-26T16:58:27.441Z"
   },
   {
    "duration": 470,
    "start_time": "2022-07-26T16:58:29.527Z"
   },
   {
    "duration": 417,
    "start_time": "2022-07-26T16:59:29.489Z"
   },
   {
    "duration": 25,
    "start_time": "2022-07-26T16:59:53.846Z"
   },
   {
    "duration": 11,
    "start_time": "2022-07-26T17:00:12.500Z"
   },
   {
    "duration": 8,
    "start_time": "2022-07-26T17:00:14.781Z"
   },
   {
    "duration": 56,
    "start_time": "2022-10-15T14:29:33.642Z"
   },
   {
    "duration": 1096,
    "start_time": "2022-10-15T14:30:27.433Z"
   },
   {
    "duration": 123,
    "start_time": "2022-10-15T14:30:28.532Z"
   },
   {
    "duration": 16,
    "start_time": "2022-10-15T14:30:28.657Z"
   },
   {
    "duration": 18,
    "start_time": "2022-10-15T14:30:28.675Z"
   },
   {
    "duration": 14,
    "start_time": "2022-10-15T14:30:28.694Z"
   },
   {
    "duration": 17,
    "start_time": "2022-10-15T14:30:28.710Z"
   },
   {
    "duration": 22,
    "start_time": "2022-10-15T14:30:28.728Z"
   },
   {
    "duration": 18,
    "start_time": "2022-10-15T14:30:28.752Z"
   },
   {
    "duration": 23,
    "start_time": "2022-10-15T14:30:28.772Z"
   },
   {
    "duration": 22,
    "start_time": "2022-10-15T14:30:28.797Z"
   },
   {
    "duration": 37,
    "start_time": "2022-10-15T14:30:28.821Z"
   },
   {
    "duration": 459,
    "start_time": "2022-10-15T14:30:28.859Z"
   },
   {
    "duration": 1074,
    "start_time": "2022-10-15T14:30:29.320Z"
   },
   {
    "duration": 19,
    "start_time": "2022-10-15T14:30:30.396Z"
   },
   {
    "duration": 238,
    "start_time": "2022-10-15T14:30:30.417Z"
   },
   {
    "duration": 296,
    "start_time": "2022-10-15T14:30:30.656Z"
   },
   {
    "duration": 289,
    "start_time": "2022-10-15T14:30:30.953Z"
   },
   {
    "duration": 275,
    "start_time": "2022-10-15T14:30:31.244Z"
   },
   {
    "duration": 2462,
    "start_time": "2022-10-15T14:30:31.521Z"
   },
   {
    "duration": 275,
    "start_time": "2022-10-15T14:30:33.985Z"
   },
   {
    "duration": 249,
    "start_time": "2022-10-15T14:30:34.263Z"
   },
   {
    "duration": 314,
    "start_time": "2022-10-15T14:30:34.514Z"
   },
   {
    "duration": 302,
    "start_time": "2022-10-15T14:30:34.830Z"
   },
   {
    "duration": 400,
    "start_time": "2022-10-15T14:30:35.134Z"
   },
   {
    "duration": 402,
    "start_time": "2022-10-15T14:30:35.536Z"
   },
   {
    "duration": 13,
    "start_time": "2022-10-15T14:30:35.940Z"
   },
   {
    "duration": 22,
    "start_time": "2022-10-15T14:30:35.955Z"
   },
   {
    "duration": 31,
    "start_time": "2022-10-15T14:30:35.980Z"
   },
   {
    "duration": 1125,
    "start_time": "2022-11-26T08:39:23.992Z"
   },
   {
    "duration": 201,
    "start_time": "2022-11-26T08:39:25.119Z"
   },
   {
    "duration": 20,
    "start_time": "2022-11-26T08:39:25.322Z"
   },
   {
    "duration": 15,
    "start_time": "2022-11-26T08:39:25.343Z"
   },
   {
    "duration": 14,
    "start_time": "2022-11-26T08:39:25.360Z"
   },
   {
    "duration": 14,
    "start_time": "2022-11-26T08:39:25.376Z"
   },
   {
    "duration": 46,
    "start_time": "2022-11-26T08:39:25.392Z"
   },
   {
    "duration": 21,
    "start_time": "2022-11-26T08:39:25.440Z"
   },
   {
    "duration": 23,
    "start_time": "2022-11-26T08:39:25.462Z"
   },
   {
    "duration": 18,
    "start_time": "2022-11-26T08:39:25.487Z"
   },
   {
    "duration": 61,
    "start_time": "2022-11-26T08:39:25.507Z"
   },
   {
    "duration": 503,
    "start_time": "2022-11-26T08:39:25.570Z"
   },
   {
    "duration": 1183,
    "start_time": "2022-11-26T08:39:26.074Z"
   },
   {
    "duration": 17,
    "start_time": "2022-11-26T08:39:27.261Z"
   },
   {
    "duration": 255,
    "start_time": "2022-11-26T08:39:27.280Z"
   },
   {
    "duration": 329,
    "start_time": "2022-11-26T08:39:27.537Z"
   },
   {
    "duration": 322,
    "start_time": "2022-11-26T08:39:27.868Z"
   },
   {
    "duration": 285,
    "start_time": "2022-11-26T08:39:28.191Z"
   },
   {
    "duration": 2655,
    "start_time": "2022-11-26T08:39:28.478Z"
   },
   {
    "duration": 257,
    "start_time": "2022-11-26T08:39:31.138Z"
   },
   {
    "duration": 296,
    "start_time": "2022-11-26T08:39:31.397Z"
   },
   {
    "duration": 329,
    "start_time": "2022-11-26T08:39:31.695Z"
   },
   {
    "duration": 311,
    "start_time": "2022-11-26T08:39:32.026Z"
   },
   {
    "duration": 421,
    "start_time": "2022-11-26T08:39:32.339Z"
   },
   {
    "duration": 440,
    "start_time": "2022-11-26T08:39:32.762Z"
   },
   {
    "duration": 35,
    "start_time": "2022-11-26T08:39:33.203Z"
   },
   {
    "duration": 14,
    "start_time": "2022-11-26T08:39:33.240Z"
   },
   {
    "duration": 20,
    "start_time": "2022-11-26T08:39:33.256Z"
   }
  ],
  "kernelspec": {
   "display_name": "Python 3 (ipykernel)",
   "language": "python",
   "name": "python3"
  },
  "language_info": {
   "codemirror_mode": {
    "name": "ipython",
    "version": 3
   },
   "file_extension": ".py",
   "mimetype": "text/x-python",
   "name": "python",
   "nbconvert_exporter": "python",
   "pygments_lexer": "ipython3",
   "version": "3.9.5"
  },
  "toc": {
   "base_numbering": 1,
   "nav_menu": {},
   "number_sections": true,
   "sideBar": true,
   "skip_h1_title": true,
   "title_cell": "Table of Contents",
   "title_sidebar": "Contents",
   "toc_cell": false,
   "toc_position": {},
   "toc_section_display": true,
   "toc_window_display": false
  }
 },
 "nbformat": 4,
 "nbformat_minor": 2
}
